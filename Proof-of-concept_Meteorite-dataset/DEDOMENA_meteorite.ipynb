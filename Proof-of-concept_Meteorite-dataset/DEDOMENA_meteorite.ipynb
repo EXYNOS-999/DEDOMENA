{
  "nbformat": 4,
  "nbformat_minor": 0,
  "metadata": {
    "colab": {
      "name": "DEDOMENA_meteorite.ipynb",
      "provenance": [],
      "collapsed_sections": []
    },
    "kernelspec": {
      "name": "python3",
      "display_name": "Python 3"
    },
    "accelerator": "GPU"
  },
  "cells": [
    {
      "cell_type": "markdown",
      "metadata": {
        "id": "CVgljEcBI-iZ",
        "colab_type": "text"
      },
      "source": [
        "# **Download earth images (NASA MODIS)**\n",
        "\n",
        "This function can download an entire history of any NASA image dataset that follow the GIBS RESTful API pattern of calls\n",
        "\n",
        "**Sample call**: https://gibs.earthdata.nasa.gov/wmts/epsg4326/best/MODIS_Terra_CorrectedReflectance_TrueColor/default/2012-07-09/250m/6/13/36.jpg\n",
        "\n",
        "**Pattern**: https://gibs.earthdata.nasa.gov/wmts/epsg{EPSG:Code}/best/{ProductName}/default/{Time}/{TileMatrixSet}/{ZoomLevel}/{TileRow}/{TileCol}.png\n",
        "\n",
        "**GIBS API webpage**: https://wiki.earthdata.nasa.gov/display/GIBS/GIBS+API+for+Developers"
      ]
    },
    {
      "cell_type": "code",
      "metadata": {
        "id": "wgtBg0J_IwJS",
        "colab_type": "code",
        "colab": {}
      },
      "source": [
        "import requests\n",
        "import shutil\n",
        "import os   \n",
        "\n",
        "\"\"\"\n",
        "This function can download an entire history of any NASA image dataset that follow the GIBS RESTful API pattern of calls\n",
        "\n",
        "Sample call: https://gibs.earthdata.nasa.gov/wmts/epsg4326/best/MODIS_Terra_CorrectedReflectance_TrueColor/default/2012-07-09/250m/6/13/36.jpg\n",
        "\n",
        "Pattern: https://gibs.earthdata.nasa.gov/wmts/epsg{EPSG:Code}/best/{ProductName}/default/{Time}/{TileMatrixSet}/{ZoomLevel}/{TileRow}/{TileCol}.png\n",
        "\n",
        "\"\"\"\n",
        "\n",
        "def download_MODIS_image(num_images, year, month, day, max_day, max_month, end_date):\n",
        "    \n",
        "    # input parameters\n",
        "    # num_images: number of images to download (for this URL, don't go over 80)\n",
        "    # year: year when image was taken; e.g. 2019\n",
        "    # month: month when image was taken; e.g. 7\n",
        "    # day: day when image was taken; e.g. 12\n",
        "    # max_day: day of each month on which you want to stop and move on to the next month; e.g. 30\n",
        "    # max_month: month of each year on which you want to stop and move on to the next year; e.g. 12\n",
        "    # end_date: a data (string) on which you want to break the loop; e.g. ''2019-10-20\n",
        "    \n",
        "    if month < 10 and day < 10:\n",
        "        date = str(year) + '-0' + str(month) + '-0' + str(day)\n",
        "    elif month < 10 and day >= 10:\n",
        "        date = str(year) + '-0' + str(month) + '-' + str(day)\n",
        "    elif month >= 10 and day < 10:\n",
        "        date = str(year) + '-' + str(month) + '-0' + str(day)\n",
        "    else:\n",
        "        date = str(year) + '-' + str(month) + '-' + str(day)\n",
        "        \n",
        "    \n",
        "    #max_day = 30   # not going to take the data from 31st day of any month (future imoprovement)\n",
        "    #max_month = 12\n",
        "    \n",
        "    image_num = 0\n",
        "    \n",
        "    for m in range(month, max_month+1):\n",
        "        for d in range(day, max_day+1):            \n",
        "            for i in range(num_images):\n",
        "                \n",
        "                if date == end_date:\n",
        "                    print('end date','end_date', ' reached')\n",
        "                    break            \n",
        "                image_id = i\n",
        "                #image_num = str(img_counter)\n",
        "                url = 'https://gibs.earthdata.nasa.gov/wmts/epsg4326/best/MODIS_Terra_CorrectedReflectance_TrueColor/default/' + date + '/250m/6/13/' + str(image_id) + '.jpg'\n",
        "                \n",
        "                #Save file in local hard drive\n",
        "                filepath = 'D:\\SpaceApps2019\\Chasers_of_lost_data\\downloads\\images_modis_nasa\\\\'\n",
        "                filename = 'nasa_modis_image_' + date + '_' + str(image_num) + '.jpg'\n",
        "                full_filepath = filepath + filename\n",
        "                \n",
        "                # Open the url image, set stream to True, this will return the stream content.\n",
        "                response = requests.get(url, stream=True)\n",
        "                    \n",
        "                # Open a local file with wb ( write binary ) permission.\n",
        "                local_file = open(full_filepath, 'wb')\n",
        "                \n",
        "                # Set decode_content value to True, otherwise the downloaded image file's size will be zero.\n",
        "                response.raw.decode_content = True\n",
        "                \n",
        "                # Copy the response stream raw data to local image file.\n",
        "                shutil.copyfileobj(response.raw, local_file)\n",
        "                \n",
        "                # Remove the image url response object.\n",
        "                local_file.close()\n",
        "                del response\n",
        "                \n",
        "                filesize = os.path.getsize(full_filepath)\n",
        "                if filesize > 428:\n",
        "                    print('image #', 'image_num', 'downloaded')\n",
        "                else:\n",
        "                    print('image #','image_num', 'is a zero sized file --> invalid image')\n",
        "                    \n",
        "                image_num += 1\n",
        "            \n",
        "\n",
        "#### MAIN ####\n",
        "\n",
        "# Loop over dates in a month to download in larger batches\n",
        "#num_images = 80\n",
        "#day = 1\n",
        "#month = 7\n",
        "#year = 2019\n",
        "#max_day = 30\n",
        "#max_month = 9\n",
        "#end_date = '2019-09-15'\n",
        "\n",
        "#download_MODIS_image(num_images, year, month, day, max_day, max_month, end_date)\n",
        "            \n",
        "\n"
      ],
      "execution_count": 0,
      "outputs": []
    },
    {
      "cell_type": "markdown",
      "metadata": {
        "id": "XAMH8kRxQTT5",
        "colab_type": "text"
      },
      "source": [
        "\n",
        "\n",
        "---\n",
        "\n",
        "\n",
        "\n",
        "---\n",
        "\n",
        "\n",
        "\n",
        "---\n",
        "\n",
        "\n",
        "\n",
        "---\n",
        "\n",
        "\n",
        "\n",
        "---\n",
        "\n",
        "\n",
        "\n",
        "---\n",
        "\n",
        "\n",
        "\n",
        "---\n",
        "\n",
        "\n",
        "\n",
        "---\n",
        "\n",
        "\n",
        "\n",
        "---\n",
        "\n",
        "\n",
        "\n",
        "---\n",
        "\n"
      ]
    },
    {
      "cell_type": "markdown",
      "metadata": {
        "id": "kajnfHcHgQ-q",
        "colab_type": "text"
      },
      "source": [
        "# **Proof of Concept #1**"
      ]
    },
    {
      "cell_type": "markdown",
      "metadata": {
        "colab_type": "text",
        "id": "rF2x3qooyBTI"
      },
      "source": [
        "# **Filling up missing portions of NASA earth images with **\n",
        "\n",
        "# **# Algorithm: Deep Convolutional Generative Adversarial Network (DCGAN)**"
      ]
    },
    {
      "cell_type": "markdown",
      "metadata": {
        "colab_type": "text",
        "id": "ITZuApL56Mny"
      },
      "source": [
        "This is a modified version of a DCGAN tutorial that was originally developed to generate fake MNIST images. **We have modified the code to take a single, corrupted NASA earth image as input and repair it.**\n",
        "\n",
        "The code is written using the [Keras Sequential API](https://www.tensorflow.org/guide/keras) with a `tf.GradientTape` training loop."
      ]
    },
    {
      "cell_type": "markdown",
      "metadata": {
        "colab_type": "text",
        "id": "2MbKJY38Puy9"
      },
      "source": [
        "## What are GANs?\n",
        "[Generative Adversarial Networks](https://arxiv.org/abs/1406.2661) (GANs) are one of the most interesting ideas in computer science today. Two models are trained simultaneously by an adversarial process. A *generator* (\"the artist\") learns to create images that look real, while a *discriminator* (\"the art critic\") learns to tell real images apart from fakes.\n",
        "\n",
        "![A diagram of a generator and discriminator](https://github.com/tensorflow/docs/blob/master/site/en/tutorials/generative/images/gan1.png?raw=1)\n",
        "\n",
        "During training, the *generator* progressively becomes better at creating images that look real, while the *discriminator* becomes better at telling them apart. The process reaches equilibrium when the *discriminator* can no longer distinguish real images from fakes.\n",
        "\n",
        "![A second diagram of a generator and discriminator](https://github.com/tensorflow/docs/blob/master/site/en/tutorials/generative/images/gan2.png?raw=1)"
      ]
    },
    {
      "cell_type": "markdown",
      "metadata": {
        "colab_type": "text",
        "id": "e1_Y75QXJS6h"
      },
      "source": [
        "### Import TensorFlow and other libraries"
      ]
    },
    {
      "cell_type": "code",
      "metadata": {
        "id": "r0evNwV32khW",
        "colab_type": "code",
        "cellView": "form",
        "outputId": "a80dbfe5-19da-4361-aff7-29af83c3619b",
        "colab": {
          "base_uri": "https://localhost:8080/",
          "height": 264
        }
      },
      "source": [
        "#@title\n",
        "# Encode categorical values but preserve nulls\n",
        "print(\"encoding categorical values with label encoder\\n\")\n",
        "le = preprocessing.LabelEncoder()\n",
        "X = X.apply(lambda series: pd.Series(le.fit_transform(series[series.notnull()]), index=series[series.notnull()].index))\n",
        "print(\"label encoding complete\\n\")"
      ],
      "execution_count": 0,
      "outputs": [
        {
          "output_type": "stream",
          "text": [
            "encoding categorical values with label encoder\n",
            "\n"
          ],
          "name": "stdout"
        },
        {
          "output_type": "error",
          "ename": "NameError",
          "evalue": "ignored",
          "traceback": [
            "\u001b[0;31m---------------------------------------------------------------------------\u001b[0m",
            "\u001b[0;31mNameError\u001b[0m                                 Traceback (most recent call last)",
            "\u001b[0;32m<ipython-input-1-28fc69734ed1>\u001b[0m in \u001b[0;36m<module>\u001b[0;34m()\u001b[0m\n\u001b[1;32m      1\u001b[0m \u001b[0mprint\u001b[0m\u001b[0;34m(\u001b[0m\u001b[0;34m\"encoding categorical values with label encoder\\n\"\u001b[0m\u001b[0;34m)\u001b[0m\u001b[0;34m\u001b[0m\u001b[0;34m\u001b[0m\u001b[0m\n\u001b[0;32m----> 2\u001b[0;31m \u001b[0mle\u001b[0m \u001b[0;34m=\u001b[0m \u001b[0mpreprocessing\u001b[0m\u001b[0;34m.\u001b[0m\u001b[0mLabelEncoder\u001b[0m\u001b[0;34m(\u001b[0m\u001b[0;34m)\u001b[0m\u001b[0;34m\u001b[0m\u001b[0;34m\u001b[0m\u001b[0m\n\u001b[0m\u001b[1;32m      3\u001b[0m \u001b[0mX\u001b[0m \u001b[0;34m=\u001b[0m \u001b[0mX\u001b[0m\u001b[0;34m.\u001b[0m\u001b[0mapply\u001b[0m\u001b[0;34m(\u001b[0m\u001b[0;32mlambda\u001b[0m \u001b[0mseries\u001b[0m\u001b[0;34m:\u001b[0m \u001b[0mpd\u001b[0m\u001b[0;34m.\u001b[0m\u001b[0mSeries\u001b[0m\u001b[0;34m(\u001b[0m\u001b[0mle\u001b[0m\u001b[0;34m.\u001b[0m\u001b[0mfit_transform\u001b[0m\u001b[0;34m(\u001b[0m\u001b[0mseries\u001b[0m\u001b[0;34m[\u001b[0m\u001b[0mseries\u001b[0m\u001b[0;34m.\u001b[0m\u001b[0mnotnull\u001b[0m\u001b[0;34m(\u001b[0m\u001b[0;34m)\u001b[0m\u001b[0;34m]\u001b[0m\u001b[0;34m)\u001b[0m\u001b[0;34m,\u001b[0m \u001b[0mindex\u001b[0m\u001b[0;34m=\u001b[0m\u001b[0mseries\u001b[0m\u001b[0;34m[\u001b[0m\u001b[0mseries\u001b[0m\u001b[0;34m.\u001b[0m\u001b[0mnotnull\u001b[0m\u001b[0;34m(\u001b[0m\u001b[0;34m)\u001b[0m\u001b[0;34m]\u001b[0m\u001b[0;34m.\u001b[0m\u001b[0mindex\u001b[0m\u001b[0;34m)\u001b[0m\u001b[0;34m)\u001b[0m\u001b[0;34m\u001b[0m\u001b[0;34m\u001b[0m\u001b[0m\n\u001b[1;32m      4\u001b[0m \u001b[0mprint\u001b[0m\u001b[0;34m(\u001b[0m\u001b[0;34m\"label encoding complete\\n\"\u001b[0m\u001b[0;34m)\u001b[0m\u001b[0;34m\u001b[0m\u001b[0;34m\u001b[0m\u001b[0m\n",
            "\u001b[0;31mNameError\u001b[0m: name 'preprocessing' is not defined"
          ]
        }
      ]
    },
    {
      "cell_type": "code",
      "metadata": {
        "colab_type": "code",
        "id": "J5oue0oqCkZZ",
        "colab": {}
      },
      "source": [
        "from __future__ import absolute_import, division, print_function, unicode_literals"
      ],
      "execution_count": 0,
      "outputs": []
    },
    {
      "cell_type": "code",
      "metadata": {
        "colab_type": "code",
        "id": "g5RstiiB8V-z",
        "outputId": "0fb50ef1-82c2-49e4-93bc-6c8c961e8d8b",
        "colab": {
          "base_uri": "https://localhost:8080/",
          "height": 35
        }
      },
      "source": [
        "try:\n",
        "  # %tensorflow_version only exists in Colab.\n",
        "  %tensorflow_version 2.x\n",
        "except Exception:\n",
        "  pass\n"
      ],
      "execution_count": 0,
      "outputs": [
        {
          "output_type": "stream",
          "text": [
            "TensorFlow 2.x selected.\n"
          ],
          "name": "stdout"
        }
      ]
    },
    {
      "cell_type": "code",
      "metadata": {
        "colab_type": "code",
        "id": "WZKbyU2-AiY-",
        "colab": {}
      },
      "source": [
        "import tensorflow as tf"
      ],
      "execution_count": 0,
      "outputs": []
    },
    {
      "cell_type": "code",
      "metadata": {
        "colab_type": "code",
        "id": "wx-zNbLqB4K8",
        "outputId": "e4b89705-dcef-4733-c024-9b1df29e0760",
        "colab": {
          "base_uri": "https://localhost:8080/",
          "height": 35
        }
      },
      "source": [
        "tf.__version__"
      ],
      "execution_count": 0,
      "outputs": [
        {
          "output_type": "execute_result",
          "data": {
            "text/plain": [
              "'2.0.0'"
            ]
          },
          "metadata": {
            "tags": []
          },
          "execution_count": 5
        }
      ]
    },
    {
      "cell_type": "code",
      "metadata": {
        "colab_type": "code",
        "id": "YzTlj4YdCip_",
        "outputId": "ef6fbde2-1ea7-48ec-d8a4-b166bd1323e4",
        "colab": {
          "base_uri": "https://localhost:8080/",
          "height": 90
        }
      },
      "source": [
        "# To generate GIFs\n",
        "!pip install imageio"
      ],
      "execution_count": 0,
      "outputs": [
        {
          "output_type": "stream",
          "text": [
            "Requirement already satisfied: imageio in /usr/local/lib/python3.6/dist-packages (2.4.1)\n",
            "Requirement already satisfied: numpy in /tensorflow-2.0.0/python3.6 (from imageio) (1.17.3)\n",
            "Requirement already satisfied: pillow in /usr/local/lib/python3.6/dist-packages (from imageio) (4.3.0)\n",
            "Requirement already satisfied: olefile in /usr/local/lib/python3.6/dist-packages (from pillow->imageio) (0.46)\n"
          ],
          "name": "stdout"
        }
      ]
    },
    {
      "cell_type": "code",
      "metadata": {
        "colab_type": "code",
        "id": "YfIk2es3hJEd",
        "colab": {}
      },
      "source": [
        "import glob\n",
        "import imageio\n",
        "import matplotlib.pyplot as plt\n",
        "import numpy as np\n",
        "import os\n",
        "import PIL\n",
        "import time\n",
        "from tensorflow.keras import layers\n",
        "from sklearn import preprocessing\n",
        "from sklearn.preprocessing import normalize\n",
        "from sklearn.preprocessing import MinMaxScaler\n",
        "from IPython import display"
      ],
      "execution_count": 0,
      "outputs": []
    },
    {
      "cell_type": "markdown",
      "metadata": {
        "colab_type": "text",
        "id": "iYn4MdZnKCey"
      },
      "source": [
        "### Load and prepare NASA Meteorite dataset for **training**"
      ]
    },
    {
      "cell_type": "code",
      "metadata": {
        "id": "hhULQyuGek0V",
        "colab_type": "code",
        "outputId": "0be185b0-9b9e-4bcd-af3e-c0dde70705a7",
        "colab": {
          "base_uri": "https://localhost:8080/",
          "height": 129
        }
      },
      "source": [
        "##### Initialize training dataset #####\n",
        "\n",
        "# mount google drive location where you saved a .zip archive of your folder that contains images; then unzip the file\n",
        "from google.colab import drive\n",
        "drive.mount('/content/drive')"
      ],
      "execution_count": 0,
      "outputs": [
        {
          "output_type": "stream",
          "text": [
            "Go to this URL in a browser: https://accounts.google.com/o/oauth2/auth?client_id=947318989803-6bn6qk8qdgf4n4g3pfee6491hc0brc4i.apps.googleusercontent.com&redirect_uri=urn%3Aietf%3Awg%3Aoauth%3A2.0%3Aoob&scope=email%20https%3A%2F%2Fwww.googleapis.com%2Fauth%2Fdocs.test%20https%3A%2F%2Fwww.googleapis.com%2Fauth%2Fdrive%20https%3A%2F%2Fwww.googleapis.com%2Fauth%2Fdrive.photos.readonly%20https%3A%2F%2Fwww.googleapis.com%2Fauth%2Fpeopleapi.readonly&response_type=code\n",
            "\n",
            "Enter your authorization code:\n",
            "··········\n",
            "Mounted at /content/drive\n"
          ],
          "name": "stdout"
        }
      ]
    },
    {
      "cell_type": "code",
      "metadata": {
        "id": "jXTHBn3c7ZSa",
        "colab_type": "code",
        "cellView": "both",
        "outputId": "9305c530-7c6e-426f-884c-8dab665ed644",
        "colab": {
          "base_uri": "https://localhost:8080/",
          "height": 35
        }
      },
      "source": [
        "cd /content/drive/My\\ Drive/Colab\\ Notebooks/NASA-challenge-sample-datasets/"
      ],
      "execution_count": 0,
      "outputs": [
        {
          "output_type": "stream",
          "text": [
            "/content/drive/My Drive/Colab Notebooks/NASA-challenge-sample-datasets\n"
          ],
          "name": "stdout"
        }
      ]
    },
    {
      "cell_type": "code",
      "metadata": {
        "id": "uVVhQY307sZ0",
        "colab_type": "code",
        "cellView": "both",
        "outputId": "e03648d7-54b6-4876-b1b5-8f4524dccc0d",
        "colab": {
          "base_uri": "https://localhost:8080/",
          "height": 34
        }
      },
      "source": [
        "!pwd"
      ],
      "execution_count": 0,
      "outputs": [
        {
          "output_type": "stream",
          "text": [
            "/content/drive/My Drive/Colab Notebooks/NASA-challenge-sample-datasets\n"
          ],
          "name": "stdout"
        }
      ]
    },
    {
      "cell_type": "code",
      "metadata": {
        "id": "sIOmIx7jvLgz",
        "colab_type": "code",
        "colab": {}
      },
      "source": [
        "# Load dataset and encode categorical values\n",
        "import pandas as pd\n",
        "df = pd.read_csv('/content/drive/My Drive/Colab Notebooks/NASA-challenge-sample-datasets/Meteorite_Landings_clean.csv')\n",
        "df_filled = df.fillna(0)\n",
        "\n",
        "# Encode categorical values\n",
        "label_enc = preprocessing.LabelEncoder()\n",
        "data_clean = df_filled.apply(lambda series: pd.Series(label_enc.fit_transform(series), index=series.index))\n",
        "#data_clean.to_csv('Meteorite_not_normalized.csv',index=True)\n",
        "\n",
        "# Normalize numeric data only (range: 0-255)\n",
        "first_2_col = data_clean[data_clean.columns[:2]]\n",
        "minmax = MinMaxScaler(feature_range=(0, 255), copy=True)\n",
        "data_norm_minmax = minmax.fit_transform(data_clean[['nametype', 'recclass', 'mass (g)', 'fall', 'year_numeric', 'reclat', 'reclong']])\n",
        "\n",
        "#data_norm = normalize(data_clean[['nametype', 'recclass', 'mass (g)', 'fall', 'year_numeric', 'reclat', 'reclong']])\n",
        "\n",
        "dataset_complete = np.hstack((first_2_col, data_norm_minmax))\n",
        "#np.savetxt(\"Meteorite_clean_minmax.csv\", dataset_complete, delimiter=\",\")\n"
      ],
      "execution_count": 0,
      "outputs": []
    },
    {
      "cell_type": "code",
      "metadata": {
        "id": "5UxNYVSGLRGv",
        "colab_type": "code",
        "outputId": "aab5b554-4653-407f-fcc7-4f2202ceeec8",
        "colab": {
          "base_uri": "https://localhost:8080/",
          "height": 35
        }
      },
      "source": [
        "data_clean.shape, dataset_complete.shape"
      ],
      "execution_count": 0,
      "outputs": [
        {
          "output_type": "execute_result",
          "data": {
            "text/plain": [
              "((45716, 9), (45716, 9))"
            ]
          },
          "metadata": {
            "tags": []
          },
          "execution_count": 9
        }
      ]
    },
    {
      "cell_type": "code",
      "metadata": {
        "id": "kJJTcuc6QM7e",
        "colab_type": "code",
        "outputId": "1f8e4dbb-bfda-487c-abc3-ed083f7d2d40",
        "colab": {
          "base_uri": "https://localhost:8080/",
          "height": 54
        }
      },
      "source": [
        "data_norm_minmax[1111,:]"
      ],
      "execution_count": 0,
      "outputs": [
        {
          "output_type": "execute_result",
          "data": {
            "text/plain": [
              "array([255.        , 100.90322581, 157.19761431, 255.        ,\n",
              "        80.52631579, 190.19392322,   9.96379534])"
            ]
          },
          "metadata": {
            "tags": []
          },
          "execution_count": 10
        }
      ]
    },
    {
      "cell_type": "code",
      "metadata": {
        "id": "ZEmbmYxLzNUM",
        "colab_type": "code",
        "outputId": "2ebc0cfe-3dff-4945-f74b-8425313eabdd",
        "colab": {
          "base_uri": "https://localhost:8080/",
          "height": 35
        }
      },
      "source": [
        "#zeros_vert = np.zeros((dataset_complete.shape[0], 3))\n",
        "#zeros_hori = np.zeros((3, dataset_complete.shape[1]))\n",
        "\n",
        "zeros_vert = np.zeros((3, 2))\n",
        "zeros_hori = np.zeros((2, 7))\n",
        "zeros_vert.shape, zeros_hori.shape, dataset_complete.shape"
      ],
      "execution_count": 0,
      "outputs": [
        {
          "output_type": "execute_result",
          "data": {
            "text/plain": [
              "((3, 2), (2, 7), (45716, 9))"
            ]
          },
          "metadata": {
            "tags": []
          },
          "execution_count": 11
        }
      ]
    },
    {
      "cell_type": "code",
      "metadata": {
        "id": "3Bnkqr58tA9t",
        "colab_type": "code",
        "outputId": "ad95fe80-9618-4d80-a8b6-7e75c534a455",
        "colab": {
          "base_uri": "https://localhost:8080/",
          "height": 35
        }
      },
      "source": [
        "## Rehsape data and pad zeros to increase dimensionality\n",
        "dataset_intermed = dataset_complete.reshape(dataset_complete.shape[0], 3, 3).astype('float32')\n",
        "dataset_intermed.shape"
      ],
      "execution_count": 0,
      "outputs": [
        {
          "output_type": "execute_result",
          "data": {
            "text/plain": [
              "(45716, 3, 3)"
            ]
          },
          "metadata": {
            "tags": []
          },
          "execution_count": 12
        }
      ]
    },
    {
      "cell_type": "code",
      "metadata": {
        "id": "OmKZYnHa2azD",
        "colab_type": "code",
        "outputId": "5e29463f-373d-42de-daea-4c0557de75f7",
        "colab": {
          "base_uri": "https://localhost:8080/",
          "height": 35
        }
      },
      "source": [
        "dataset_intermed[0,:,:].shape, zeros_vert.shape"
      ],
      "execution_count": 0,
      "outputs": [
        {
          "output_type": "execute_result",
          "data": {
            "text/plain": [
              "((3, 3), (3, 2))"
            ]
          },
          "metadata": {
            "tags": []
          },
          "execution_count": 15
        }
      ]
    },
    {
      "cell_type": "code",
      "metadata": {
        "id": "l9qQ9f600Vvj",
        "colab_type": "code",
        "outputId": "bd601fd4-dd5d-4931-a820-c0e689ad3523",
        "colab": {
          "base_uri": "https://localhost:8080/",
          "height": 35
        }
      },
      "source": [
        "# pad zeros horizontally\n",
        "dataset_hor_pad = []\n",
        "for i in range(dataset_intermed.shape[0]):\n",
        "  dataset_hor_pad_1 = np.hstack((zeros_vert, dataset_intermed[i,:,:], zeros_vert))\n",
        "  dataset_hor_pad.append(dataset_hor_pad_1)\n",
        "\n",
        "dataset_hor_pad = np.array(dataset_hor_pad)\n",
        "dataset_hor_pad_1.shape, dataset_hor_pad.shape"
      ],
      "execution_count": 0,
      "outputs": [
        {
          "output_type": "execute_result",
          "data": {
            "text/plain": [
              "((3, 7), (45716, 3, 7))"
            ]
          },
          "metadata": {
            "tags": []
          },
          "execution_count": 13
        }
      ]
    },
    {
      "cell_type": "code",
      "metadata": {
        "id": "Qjtbdh854O2_",
        "colab_type": "code",
        "outputId": "bc3a7972-de71-4047-d008-4e9eb23d5165",
        "colab": {
          "base_uri": "https://localhost:8080/",
          "height": 35
        }
      },
      "source": [
        "# pad zeros vertically\n",
        "dataset_ver_pad = []\n",
        "for i in range(dataset_hor_pad.shape[0]):\n",
        "  dataset_ver_pad_1 = np.vstack((zeros_hori, dataset_hor_pad[i,:,:], zeros_hori))\n",
        "  dataset_ver_pad.append(dataset_ver_pad_1)\n",
        "\n",
        "dataset_padded = np.array(dataset_ver_pad)\n",
        "dataset_ver_pad_1.shape, dataset_padded.shape"
      ],
      "execution_count": 0,
      "outputs": [
        {
          "output_type": "execute_result",
          "data": {
            "text/plain": [
              "((7, 7), (45716, 7, 7))"
            ]
          },
          "metadata": {
            "tags": []
          },
          "execution_count": 14
        }
      ]
    },
    {
      "cell_type": "code",
      "metadata": {
        "id": "Ko5z0Yqjvw_F",
        "colab_type": "code",
        "cellView": "both",
        "outputId": "2ed930aa-6c70-46ed-f0b1-05ba3c26acd6",
        "colab": {
          "base_uri": "https://localhost:8080/",
          "height": 274
        }
      },
      "source": [
        "dataset_padded[1111,:,:]"
      ],
      "execution_count": 0,
      "outputs": [
        {
          "output_type": "execute_result",
          "data": {
            "text/plain": [
              "array([[  0.        ,   0.        ,   0.        ,   0.        ,\n",
              "          0.        ,   0.        ,   0.        ],\n",
              "       [  0.        ,   0.        ,   0.        ,   0.        ,\n",
              "          0.        ,   0.        ,   0.        ],\n",
              "       [  0.        ,   0.        ,   2.        ,   2.        ,\n",
              "        255.        ,   0.        ,   0.        ],\n",
              "       [  0.        ,   0.        , 100.90322876, 157.19761658,\n",
              "        255.        ,   0.        ,   0.        ],\n",
              "       [  0.        ,   0.        ,  80.52631378, 190.19392395,\n",
              "          9.96379566,   0.        ,   0.        ],\n",
              "       [  0.        ,   0.        ,   0.        ,   0.        ,\n",
              "          0.        ,   0.        ,   0.        ],\n",
              "       [  0.        ,   0.        ,   0.        ,   0.        ,\n",
              "          0.        ,   0.        ,   0.        ]])"
            ]
          },
          "metadata": {
            "tags": []
          },
          "execution_count": 15
        }
      ]
    },
    {
      "cell_type": "code",
      "metadata": {
        "id": "jJMQGfklz8tR",
        "colab_type": "code",
        "cellView": "form",
        "colab": {}
      },
      "source": [
        "#@title\n",
        "data[345,1]"
      ],
      "execution_count": 0,
      "outputs": []
    },
    {
      "cell_type": "code",
      "metadata": {
        "id": "NA42Q-gwvM-L",
        "colab_type": "code",
        "cellView": "form",
        "colab": {}
      },
      "source": [
        "#@title\n",
        "data_clean_nparr[345,1]"
      ],
      "execution_count": 0,
      "outputs": []
    },
    {
      "cell_type": "code",
      "metadata": {
        "id": "yzF26A6-ZGFo",
        "colab_type": "code",
        "cellView": "form",
        "colab": {}
      },
      "source": [
        "#@title\n",
        "first_2_col.shape, data_norm.shape"
      ],
      "execution_count": 0,
      "outputs": []
    },
    {
      "cell_type": "code",
      "metadata": {
        "id": "o4xUDoCF81gn",
        "colab_type": "code",
        "cellView": "form",
        "colab": {}
      },
      "source": [
        "#@title\n",
        "dataset_complete[12,4]"
      ],
      "execution_count": 0,
      "outputs": []
    },
    {
      "cell_type": "code",
      "metadata": {
        "id": "_iwOatDqmVmV",
        "colab_type": "code",
        "colab": {}
      },
      "source": [
        "# Reshape and normalize training data\n",
        "#x_train = data_norm[:, :].reshape(train.shape[0],1,28, 28).astype( 'float32' )\n",
        "\n",
        "# RESHAPE image so that the 3 channels RGB are stored in the first axis of the array\n",
        "#np_im_reshaped = np.moveaxis(np_im, 2, 0)\n",
        "#dataset = dataset_complete.reshape(dataset_complete.shape[0], 3, 3, 1).astype('float32')\n",
        "#np_im_resh_img = (np_im_resh_img - 127.5) / 127.5 # Normalize the images to [-1, 1]\n",
        "\n",
        "dataset = dataset_padded.reshape(dataset_padded.shape[0], 7, 7, 1).astype('float32')\n",
        "# INITIALIZE buffer and batch size\n",
        "BUFFER_SIZE = dataset_padded.shape[0]\n",
        "BATCH_SIZE = 256\n",
        "\n",
        "# BATCH and SHUFFLE the data\n",
        "train_dataset = tf.data.Dataset.from_tensor_slices(dataset).shuffle(BUFFER_SIZE).batch(BATCH_SIZE)"
      ],
      "execution_count": 0,
      "outputs": []
    },
    {
      "cell_type": "code",
      "metadata": {
        "id": "INhzpXh6F1RP",
        "colab_type": "code",
        "outputId": "36cd4625-1447-426e-d045-eba7e3b487a9",
        "colab": {
          "base_uri": "https://localhost:8080/",
          "height": 35
        }
      },
      "source": [
        "dataset.shape"
      ],
      "execution_count": 0,
      "outputs": [
        {
          "output_type": "execute_result",
          "data": {
            "text/plain": [
              "(45716, 7, 7, 1)"
            ]
          },
          "metadata": {
            "tags": []
          },
          "execution_count": 20
        }
      ]
    },
    {
      "cell_type": "code",
      "metadata": {
        "id": "da_r98NouyPN",
        "colab_type": "code",
        "colab": {}
      },
      "source": [
        "dataset[1,:,:,:]"
      ],
      "execution_count": 0,
      "outputs": []
    },
    {
      "cell_type": "markdown",
      "metadata": {
        "colab_type": "text",
        "id": "THY-sZMiQ4UV"
      },
      "source": [
        "## Create the models\n",
        "\n",
        "Both the generator and discriminator are defined using the [Keras Sequential API](https://www.tensorflow.org/guide/keras#sequential_model)."
      ]
    },
    {
      "cell_type": "markdown",
      "metadata": {
        "colab_type": "text",
        "id": "-tEyxE-GMC48"
      },
      "source": [
        "### The Generator\n",
        "\n",
        "The generator uses `tf.keras.layers.Conv2DTranspose` (upsampling) layers to produce an image from a seed (random noise). Start with a **`Dense` layer that takes this seed as input**, then **upsample several times until you reach the desired image size** of 28x28x1. Notice the `tf.keras.layers.LeakyReLU` activation for each layer, except the output layer which uses tanh."
      ]
    },
    {
      "cell_type": "code",
      "metadata": {
        "id": "WbuMZGRLnaEE",
        "colab_type": "code",
        "colab": {}
      },
      "source": [
        "def make_generator_model():\n",
        "    model = tf.keras.Sequential()\n",
        "    model.add(layers.Dense(7*7*256, use_bias=False, input_shape=(100,)))\n",
        "    model.add(layers.BatchNormalization())\n",
        "    model.add(layers.LeakyReLU())\n",
        "\n",
        "    model.add(layers.Reshape((7, 7, 256)))\n",
        "    assert model.output_shape == (None, 7, 7, 256) # Note: None is the batch size\n",
        "\n",
        "    model.add(layers.Conv2DTranspose(128, (5, 5), strides=(1, 1), padding='same', use_bias=False))\n",
        "    assert model.output_shape == (None, 7, 7, 128)\n",
        "    model.add(layers.BatchNormalization())\n",
        "    model.add(layers.LeakyReLU())\n",
        "\n",
        "    model.add(layers.Conv2DTranspose(64, (5, 5), strides=(1, 1), padding='same', use_bias=False))\n",
        "    assert model.output_shape == (None, 7, 7, 64)\n",
        "    model.add(layers.BatchNormalization())\n",
        "    model.add(layers.LeakyReLU())\n",
        "\n",
        "    model.add(layers.Conv2DTranspose(1, (5, 5), strides=(1, 1), padding='same', use_bias=False, activation='tanh'))\n",
        "    assert model.output_shape == (None, 7, 7, 1)\n",
        "\n",
        "    return model"
      ],
      "execution_count": 0,
      "outputs": []
    },
    {
      "cell_type": "markdown",
      "metadata": {
        "colab_type": "text",
        "id": "GyWgG09LCSJl"
      },
      "source": [
        "Use the (as yet untrained) generator to create an image."
      ]
    },
    {
      "cell_type": "code",
      "metadata": {
        "id": "tAGLa53Hq-54",
        "colab_type": "code",
        "cellView": "both",
        "outputId": "3a31c5ff-02c6-43e3-c439-ea93f624a55f",
        "colab": {
          "base_uri": "https://localhost:8080/",
          "height": 286
        }
      },
      "source": [
        "generator = make_generator_model()\n",
        "\n",
        "noise = tf.random.normal([1, 100])\n",
        "generated_image = generator(noise, training=False)\n",
        "\n",
        "plt.imshow(generated_image[0, :, :, 0])"
      ],
      "execution_count": 0,
      "outputs": [
        {
          "output_type": "execute_result",
          "data": {
            "text/plain": [
              "<matplotlib.image.AxesImage at 0x7f2466bbc3c8>"
            ]
          },
          "metadata": {
            "tags": []
          },
          "execution_count": 33
        },
        {
          "output_type": "display_data",
          "data": {
            "image/png": "[encoded data removed]",
            "text/plain": [
              "<Figure size 432x288 with 1 Axes>"
            ]
          },
          "metadata": {
            "tags": []
          }
        }
      ]
    },
    {
      "cell_type": "markdown",
      "metadata": {
        "colab_type": "text",
        "id": "D0IKnaCtg6WE"
      },
      "source": [
        "### The Discriminator\n",
        "\n",
        "The discriminator is a CNN-based image classifier."
      ]
    },
    {
      "cell_type": "code",
      "metadata": {
        "id": "len8EoxnuKS-",
        "colab_type": "code",
        "colab": {}
      },
      "source": [
        "# Create a discriminator to police the generator (notice the input shape of the first Conv2D layer)\n",
        "\n",
        "def make_discriminator_model():\n",
        "    model = tf.keras.Sequential()\n",
        "    model.add(layers.Conv2D(32, (5, 5), strides=(2, 2), padding='same',\n",
        "                                     input_shape=[7, 7, 1]))\n",
        "    model.add(layers.LeakyReLU())\n",
        "    model.add(layers.Dropout(0.3))\n",
        "\n",
        "    model.add(layers.Conv2D(64, (5, 5), strides=(2, 2), padding='same'))\n",
        "    model.add(layers.LeakyReLU())\n",
        "    model.add(layers.Dropout(0.3))\n",
        "\n",
        "    model.add(layers.Flatten())\n",
        "    model.add(layers.Dense(1))\n",
        "\n",
        "    return model"
      ],
      "execution_count": 0,
      "outputs": []
    },
    {
      "cell_type": "markdown",
      "metadata": {
        "colab_type": "text",
        "id": "QhPneagzCaQv"
      },
      "source": [
        "Use the (as yet untrained) discriminator to classify the generated images as real or fake. The model will be trained to output positive values for real images, and negative values for fake images."
      ]
    },
    {
      "cell_type": "code",
      "metadata": {
        "id": "aKewzWxktMzb",
        "colab_type": "code",
        "cellView": "both",
        "outputId": "1d54c328-847c-4ef3-ad9d-fa44c4ff3718",
        "colab": {
          "base_uri": "https://localhost:8080/",
          "height": 35
        }
      },
      "source": [
        "discriminator = make_discriminator_model()\n",
        "decision = discriminator(generated_image)\n",
        "print (decision)"
      ],
      "execution_count": 0,
      "outputs": [
        {
          "output_type": "stream",
          "text": [
            "tf.Tensor([[-0.00597883]], shape=(1, 1), dtype=float32)\n"
          ],
          "name": "stdout"
        }
      ]
    },
    {
      "cell_type": "markdown",
      "metadata": {
        "colab_type": "text",
        "id": "0FMYgY_mPfTi"
      },
      "source": [
        "## Define the loss and optimizers\n",
        "\n",
        "Define loss functions and optimizers for both models.\n"
      ]
    },
    {
      "cell_type": "code",
      "metadata": {
        "colab_type": "code",
        "id": "psQfmXxYKU3X",
        "colab": {}
      },
      "source": [
        "# This method returns a helper function to compute cross entropy loss\n",
        "cross_entropy = tf.keras.losses.BinaryCrossentropy(from_logits=True)"
      ],
      "execution_count": 0,
      "outputs": []
    },
    {
      "cell_type": "markdown",
      "metadata": {
        "colab_type": "text",
        "id": "PKY_iPSPNWoj"
      },
      "source": [
        "### Discriminator loss\n",
        "\n",
        "This method quantifies how well the discriminator is able to distinguish real images from fakes. It compares the discriminator's predictions on real images to an array of 1s, and the discriminator's predictions on fake (generated) images to an array of 0s."
      ]
    },
    {
      "cell_type": "code",
      "metadata": {
        "colab_type": "code",
        "id": "wkMNfBWlT-PV",
        "colab": {}
      },
      "source": [
        "def discriminator_loss(real_output, fake_output):\n",
        "    real_loss = cross_entropy(tf.ones_like(real_output), real_output)\n",
        "    fake_loss = cross_entropy(tf.zeros_like(fake_output), fake_output)\n",
        "    total_loss = real_loss + fake_loss\n",
        "    return total_loss"
      ],
      "execution_count": 0,
      "outputs": []
    },
    {
      "cell_type": "markdown",
      "metadata": {
        "colab_type": "text",
        "id": "Jd-3GCUEiKtv"
      },
      "source": [
        "### Generator loss\n",
        "The generator's loss quantifies how well it was able to trick the discriminator. Intuitively, if the generator is performing well, the discriminator will classify the fake images as real (or 1). Here, we will compare the discriminators decisions on the generated images to an array of 1s."
      ]
    },
    {
      "cell_type": "code",
      "metadata": {
        "colab_type": "code",
        "id": "90BIcCKcDMxz",
        "colab": {}
      },
      "source": [
        "def generator_loss(fake_output):\n",
        "    return cross_entropy(tf.ones_like(fake_output), fake_output)"
      ],
      "execution_count": 0,
      "outputs": []
    },
    {
      "cell_type": "markdown",
      "metadata": {
        "colab_type": "text",
        "id": "MgIc7i0th_Iu"
      },
      "source": [
        "The discriminator and the generator optimizers are different since we will train two networks separately."
      ]
    },
    {
      "cell_type": "code",
      "metadata": {
        "colab_type": "code",
        "id": "iWCn_PVdEJZ7",
        "colab": {}
      },
      "source": [
        "generator_optimizer = tf.keras.optimizers.Adam(1e-4)\n",
        "discriminator_optimizer = tf.keras.optimizers.Adam(1e-4)"
      ],
      "execution_count": 0,
      "outputs": []
    },
    {
      "cell_type": "markdown",
      "metadata": {
        "colab_type": "text",
        "id": "mWtinsGDPJlV"
      },
      "source": [
        "### Save checkpoints\n",
        "This notebook also demonstrates how to save and restore models, which can be helpful in case a long running training task is interrupted."
      ]
    },
    {
      "cell_type": "code",
      "metadata": {
        "colab_type": "code",
        "id": "CA1w-7s2POEy",
        "colab": {}
      },
      "source": [
        "checkpoint_dir = './training_checkpoints'\n",
        "checkpoint_prefix = os.path.join(checkpoint_dir, \"ckpt\")\n",
        "checkpoint = tf.train.Checkpoint(generator_optimizer=generator_optimizer,\n",
        "                                 discriminator_optimizer=discriminator_optimizer,\n",
        "                                 generator=generator,\n",
        "                                 discriminator=discriminator)"
      ],
      "execution_count": 0,
      "outputs": []
    },
    {
      "cell_type": "markdown",
      "metadata": {
        "colab_type": "text",
        "id": "Rw1fkAczTQYh"
      },
      "source": [
        "## Define the training loop\n",
        "\n"
      ]
    },
    {
      "cell_type": "code",
      "metadata": {
        "id": "WbOzaGf7wde8",
        "colab_type": "code",
        "colab": {}
      },
      "source": [
        "EPOCHS = 50\n",
        "noise_dim = 100\n",
        "num_examples_to_generate = 16\n",
        "\n",
        "# We will reuse this seed overtime (so it's easier)\n",
        "# to visualize progress in the animated GIF)\n",
        "seed = tf.random.normal([num_examples_to_generate, noise_dim])"
      ],
      "execution_count": 0,
      "outputs": []
    },
    {
      "cell_type": "markdown",
      "metadata": {
        "colab_type": "text",
        "id": "jylSonrqSWfi"
      },
      "source": [
        "The training loop begins with generator receiving a random seed as input. That seed is used to produce an image. The discriminator is then used to classify real images (drawn from the training set) and fakes images (produced by the generator). The loss is calculated for each of these models, and the gradients are used to update the generator and discriminator."
      ]
    },
    {
      "cell_type": "code",
      "metadata": {
        "colab_type": "code",
        "id": "3t5ibNo05jCB",
        "colab": {}
      },
      "source": [
        "# Notice the use of `tf.function`\n",
        "# This annotation causes the function to be \"compiled\".\n",
        "@tf.function\n",
        "def train_step(images):\n",
        "    noise = tf.random.normal([BATCH_SIZE, noise_dim])\n",
        "\n",
        "    with tf.GradientTape() as gen_tape, tf.GradientTape() as disc_tape:\n",
        "      generated_images = generator(noise, training=True)\n",
        "\n",
        "      real_output = discriminator(images, training=True)\n",
        "      fake_output = discriminator(generated_images, training=True)\n",
        "\n",
        "      gen_loss = generator_loss(fake_output)\n",
        "      disc_loss = discriminator_loss(real_output, fake_output)\n",
        "\n",
        "    gradients_of_generator = gen_tape.gradient(gen_loss, generator.trainable_variables)\n",
        "    gradients_of_discriminator = disc_tape.gradient(disc_loss, discriminator.trainable_variables)\n",
        "\n",
        "    generator_optimizer.apply_gradients(zip(gradients_of_generator, generator.trainable_variables))\n",
        "    discriminator_optimizer.apply_gradients(zip(gradients_of_discriminator, discriminator.trainable_variables))"
      ],
      "execution_count": 0,
      "outputs": []
    },
    {
      "cell_type": "code",
      "metadata": {
        "colab_type": "code",
        "id": "2M7LmLtGEMQJ",
        "colab": {}
      },
      "source": [
        "def train(dataset, epochs):\n",
        "  for epoch in range(epochs):\n",
        "    start = time.time()\n",
        "\n",
        "    for image_batch in dataset:\n",
        "      train_step(image_batch)\n",
        "\n",
        "    # Produce images for the GIF as we go\n",
        "    display.clear_output(wait=True)\n",
        "    generate_and_save_images(generator,\n",
        "                             epoch + 1,\n",
        "                             seed)\n",
        "\n",
        "    # Save the model every 15 epochs\n",
        "    if (epoch + 1) % 15 == 0:\n",
        "      checkpoint.save(file_prefix = checkpoint_prefix)\n",
        "\n",
        "    print ('Time for epoch {} is {} sec'.format(epoch + 1, time.time()-start))\n",
        "\n",
        "  # Generate after the final epoch\n",
        "  display.clear_output(wait=True)\n",
        "  generate_and_save_images(generator,\n",
        "                           epochs,\n",
        "                           seed)"
      ],
      "execution_count": 0,
      "outputs": []
    },
    {
      "cell_type": "markdown",
      "metadata": {
        "colab_type": "text",
        "id": "2aFF7Hk3XdeW"
      },
      "source": [
        "**Generate and save images**\n",
        "\n"
      ]
    },
    {
      "cell_type": "code",
      "metadata": {
        "colab_type": "code",
        "id": "RmdVsmvhPxyy",
        "colab": {}
      },
      "source": [
        "def generate_and_save_images(model, epoch, test_input):\n",
        "  # Notice `training` is set to False.\n",
        "  # This is so all layers run in inference mode (batchnorm).\n",
        "  predictions = model(test_input, training=False)\n",
        "  print('prediction shape = ', predictions.shape)\n",
        "\n",
        "  fig = plt.figure(figsize=(4,4))\n",
        "\n",
        "  for i in range(predictions.shape[0]):\n",
        "      plt.subplot(4, 4, i+1)\n",
        "      #plt.imshow(predictions[i, :, :, 0] * 127.5 + 127.5, cmap='gray')\n",
        "      plt.imshow(predictions[i, :, :, 0])\n",
        "      plt.axis('off')\n",
        "\n",
        "  #plt.imshow(predictions[0, :, :, 0])\n",
        "  plt.savefig('image_at_epoch_{:04d}.png'.format(epoch))\n",
        "  plt.show()"
      ],
      "execution_count": 0,
      "outputs": []
    },
    {
      "cell_type": "markdown",
      "metadata": {
        "colab_type": "text",
        "id": "dZrd4CdjR-Fp"
      },
      "source": [
        "## Train the model\n",
        "Call the `train()` method defined above to train the generator and discriminator simultaneously. Note, training GANs can be tricky. It's important that the generator and discriminator do not overpower each other (e.g., that they train at a similar rate).\n",
        "\n",
        "At the beginning of the training, the generated image tiles will look like random noise. As training progresses, the tiles will look increasingly real This is the expectation when enough training data i.e. images, is provided. Usually with only a few images as input, the discriminator doesn't get the oppooertunity to police the generator properly."
      ]
    },
    {
      "cell_type": "code",
      "metadata": {
        "id": "Nw4iLv21vSOi",
        "colab_type": "code",
        "outputId": "d8b0ddd4-8017-478b-d3ab-004a3af2194b",
        "colab": {
          "base_uri": "https://localhost:8080/",
          "height": 1000
        }
      },
      "source": [
        "%%time\n",
        "train(train_dataset, EPOCHS)"
      ],
      "execution_count": 0,
      "outputs": [
        {
          "output_type": "stream",
          "text": [
            "prediction shape =  (16, 7, 7, 1)\n",
            "CPU times: user 2min 15s, sys: 18 s, total: 2min 33s\n",
            "Wall time: 7min 39s\n"
          ],
          "name": "stdout"
        },
        {
          "output_type": "display_data",
          "data": {
            "image/png": "[encoded data removed]",
            "text/plain": [
              "<Figure size 288x288 with 16 Axes>"
            ]
          },
          "metadata": {
            "tags": []
          }
        },
        {
          "output_type": "display_data",
          "data": {
            "image/png": "[encoded data removed]",
            "text/plain": [
              "<Figure size 288x288 with 16 Axes>"
            ]
          },
          "metadata": {
            "tags": []
          }
        },
        {
          "output_type": "display_data",
          "data": {
            "image/png": "[encoded data removed]",
            "text/plain": [
              "<Figure size 288x288 with 16 Axes>"
            ]
          },
          "metadata": {
            "tags": []
          }
        },
        {
          "output_type": "display_data",
          "data": {
            "image/png": "[encoded data removed]",
            "text/plain": [
              "<Figure size 288x288 with 16 Axes>"
            ]
          },
          "metadata": {
            "tags": []
          }
        },
        {
          "output_type": "display_data",
          "data": {
            "image/png": "[encoded data removed]",
            "text/plain": [
              "<Figure size 288x288 with 16 Axes>"
            ]
          },
          "metadata": {
            "tags": []
          }
        },
        {
          "output_type": "display_data",
          "data": {
            "image/png": "[encoded data removed]",
            "text/plain": [
              "<Figure size 288x288 with 16 Axes>"
            ]
          },
          "metadata": {
            "tags": []
          }
        },
        {
          "output_type": "display_data",
          "data": {
            "image/png": "[encoded data removed]",
            "text/plain": [
              "<Figure size 288x288 with 16 Axes>"
            ]
          },
          "metadata": {
            "tags": []
          }
        },
        {
          "output_type": "display_data",
          "data": {
            "image/png": "[encoded data removed]",
            "text/plain": [
              "<Figure size 288x288 with 16 Axes>"
            ]
          },
          "metadata": {
            "tags": []
          }
        },
        {
          "output_type": "display_data",
          "data": {
            "image/png": "[encoded data removed]",
            "text/plain": [
              "<Figure size 288x288 with 16 Axes>"
            ]
          },
          "metadata": {
            "tags": []
          }
        },
        {
          "output_type": "display_data",
          "data": {
            "image/png": "[encoded data removed]",
            "text/plain": [
              "<Figure size 288x288 with 16 Axes>"
            ]
          },
          "metadata": {
            "tags": []
          }
        },
        {
          "output_type": "display_data",
          "data": {
            "image/png": "[encoded data removed]",
            "text/plain": [
              "<Figure size 288x288 with 16 Axes>"
            ]
          },
          "metadata": {
            "tags": []
          }
        },
        {
          "output_type": "display_data",
          "data": {
            "image/png": "[encoded data removed]",
            "text/plain": [
              "<Figure size 288x288 with 16 Axes>"
            ]
          },
          "metadata": {
            "tags": []
          }
        },
        {
          "output_type": "display_data",
          "data": {
            "image/png": "[encoded data removed]",
            "text/plain": [
              "<Figure size 288x288 with 16 Axes>"
            ]
          },
          "metadata": {
            "tags": []
          }
        },
        {
          "output_type": "display_data",
          "data": {
            "image/png": "[encoded data removed]",
            "text/plain": [
              "<Figure size 288x288 with 16 Axes>"
            ]
          },
          "metadata": {
            "tags": []
          }
        },
        {
          "output_type": "display_data",
          "data": {
            "image/png": "[encoded data removed]",
            "text/plain": [
              "<Figure size 288x288 with 16 Axes>"
            ]
          },
          "metadata": {
            "tags": []
          }
        },
        {
          "output_type": "display_data",
          "data": {
            "image/png": "[encoded data removed]",
            "text/plain": [
              "<Figure size 288x288 with 16 Axes>"
            ]
          },
          "metadata": {
            "tags": []
          }
        },
        {
          "output_type": "display_data",
          "data": {
            "image/png": "[encoded data removed]",
            "text/plain": [
              "<Figure size 288x288 with 16 Axes>"
            ]
          },
          "metadata": {
            "tags": []
          }
        },
        {
          "output_type": "display_data",
          "data": {
            "image/png": "[encoded data removed]",
            "text/plain": [
              "<Figure size 288x288 with 16 Axes>"
            ]
          },
          "metadata": {
            "tags": []
          }
        },
        {
          "output_type": "display_data",
          "data": {
            "image/png": "[encoded data removed]",
            "text/plain": [
              "<Figure size 288x288 with 16 Axes>"
            ]
          },
          "metadata": {
            "tags": []
          }
        },
        {
          "output_type": "display_data",
          "data": {
            "image/png": "[encoded data removed]",
            "text/plain": [
              "<Figure size 288x288 with 16 Axes>"
            ]
          },
          "metadata": {
            "tags": []
          }
        },
        {
          "output_type": "display_data",
          "data": {
            "image/png": "[encoded data removed]",
            "text/plain": [
              "<Figure size 288x288 with 16 Axes>"
            ]
          },
          "metadata": {
            "tags": []
          }
        },
        {
          "output_type": "display_data",
          "data": {
            "image/png": "[encoded data removed]",
            "text/plain": [
              "<Figure size 288x288 with 16 Axes>"
            ]
          },
          "metadata": {
            "tags": []
          }
        },
        {
          "output_type": "display_data",
          "data": {
            "image/png": "[encoded data removed]",
            "text/plain": [
              "<Figure size 288x288 with 16 Axes>"
            ]
          },
          "metadata": {
            "tags": []
          }
        },
        {
          "output_type": "display_data",
          "data": {
            "image/png": "[encoded data removed]",
            "text/plain": [
              "<Figure size 288x288 with 16 Axes>"
            ]
          },
          "metadata": {
            "tags": []
          }
        },
        {
          "output_type": "display_data",
          "data": {
            "image/png": "[encoded data removed]",
            "text/plain": [
              "<Figure size 288x288 with 16 Axes>"
            ]
          },
          "metadata": {
            "tags": []
          }
        },
        {
          "output_type": "display_data",
          "data": {
            "image/png": "[encoded data removed]",
            "text/plain": [
              "<Figure size 288x288 with 16 Axes>"
            ]
          },
          "metadata": {
            "tags": []
          }
        },
        {
          "output_type": "display_data",
          "data": {
            "image/png": "[encoded data removed]",
            "text/plain": [
              "<Figure size 288x288 with 16 Axes>"
            ]
          },
          "metadata": {
            "tags": []
          }
        },
        {
          "output_type": "display_data",
          "data": {
            "image/png": "[encoded data removed]",
            "text/plain": [
              "<Figure size 288x288 with 16 Axes>"
            ]
          },
          "metadata": {
            "tags": []
          }
        },
        {
          "output_type": "display_data",
          "data": {
            "image/png": "[encoded data removed]",
            "text/plain": [
              "<Figure size 288x288 with 16 Axes>"
            ]
          },
          "metadata": {
            "tags": []
          }
        },
        {
          "output_type": "display_data",
          "data": {
            "image/png": "[encoded data removed]",
            "text/plain": [
              "<Figure size 288x288 with 16 Axes>"
            ]
          },
          "metadata": {
            "tags": []
          }
        },
        {
          "output_type": "display_data",
          "data": {
            "image/png": "[encoded data removed]",
            "text/plain": [
              "<Figure size 288x288 with 16 Axes>"
            ]
          },
          "metadata": {
            "tags": []
          }
        },
        {
          "output_type": "display_data",
          "data": {
            "image/png": "[encoded data removed]",
            "text/plain": [
              "<Figure size 288x288 with 16 Axes>"
            ]
          },
          "metadata": {
            "tags": []
          }
        },
        {
          "output_type": "display_data",
          "data": {
            "image/png": "[encoded data removed]",
            "text/plain": [
              "<Figure size 288x288 with 16 Axes>"
            ]
          },
          "metadata": {
            "tags": []
          }
        },
        {
          "output_type": "display_data",
          "data": {
            "image/png": "[encoded data removed]",
            "text/plain": [
              "<Figure size 288x288 with 16 Axes>"
            ]
          },
          "metadata": {
            "tags": []
          }
        },
        {
          "output_type": "display_data",
          "data": {
            "image/png": "[encoded data removed]",
            "text/plain": [
              "<Figure size 288x288 with 16 Axes>"
            ]
          },
          "metadata": {
            "tags": []
          }
        },
        {
          "output_type": "display_data",
          "data": {
            "image/png": "[encoded data removed]",
            "text/plain": [
              "<Figure size 288x288 with 16 Axes>"
            ]
          },
          "metadata": {
            "tags": []
          }
        },
        {
          "output_type": "display_data",
          "data": {
            "image/png": "[encoded data removed]",
            "text/plain": [
              "<Figure size 288x288 with 16 Axes>"
            ]
          },
          "metadata": {
            "tags": []
          }
        },
        {
          "output_type": "display_data",
          "data": {
            "image/png": "[encoded data removed]",
            "text/plain": [
              "<Figure size 288x288 with 16 Axes>"
            ]
          },
          "metadata": {
            "tags": []
          }
        },
        {
          "output_type": "display_data",
          "data": {
            "image/png": "[encoded data removed]",
            "text/plain": [
              "<Figure size 288x288 with 16 Axes>"
            ]
          },
          "metadata": {
            "tags": []
          }
        },
        {
          "output_type": "display_data",
          "data": {
            "image/png": "[encoded data removed]",
            "text/plain": [
              "<Figure size 288x288 with 16 Axes>"
            ]
          },
          "metadata": {
            "tags": []
          }
        },
        {
          "output_type": "display_data",
          "data": {
            "image/png": "[encoded data removed]",
            "text/plain": [
              "<Figure size 288x288 with 16 Axes>"
            ]
          },
          "metadata": {
            "tags": []
          }
        },
        {
          "output_type": "display_data",
          "data": {
            "image/png": "[encoded data removed]",
            "text/plain": [
              "<Figure size 288x288 with 16 Axes>"
            ]
          },
          "metadata": {
            "tags": []
          }
        },
        {
          "output_type": "display_data",
          "data": {
            "image/png": "[encoded data removed]",
            "text/plain": [
              "<Figure size 288x288 with 16 Axes>"
            ]
          },
          "metadata": {
            "tags": []
          }
        },
        {
          "output_type": "display_data",
          "data": {
            "image/png": "[encoded data removed]",
            "text/plain": [
              "<Figure size 288x288 with 16 Axes>"
            ]
          },
          "metadata": {
            "tags": []
          }
        },
        {
          "output_type": "display_data",
          "data": {
            "image/png": "[encoded data removed]",
            "text/plain": [
              "<Figure size 288x288 with 16 Axes>"
            ]
          },
          "metadata": {
            "tags": []
          }
        },
        {
          "output_type": "display_data",
          "data": {
            "image/png": "[encoded data removed]",
            "text/plain": [
              "<Figure size 288x288 with 16 Axes>"
            ]
          },
          "metadata": {
            "tags": []
          }
        },
        {
          "output_type": "display_data",
          "data": {
            "image/png": "[encoded data removed]",
            "text/plain": [
              "<Figure size 288x288 with 16 Axes>"
            ]
          },
          "metadata": {
            "tags": []
          }
        },
        {
          "output_type": "display_data",
          "data": {
            "image/png": "[encoded data removed]",
            "text/plain": [
              "<Figure size 288x288 with 16 Axes>"
            ]
          },
          "metadata": {
            "tags": []
          }
        },
        {
          "output_type": "display_data",
          "data": {
            "image/png": "[encoded data removed]",
            "text/plain": [
              "<Figure size 288x288 with 16 Axes>"
            ]
          },
          "metadata": {
            "tags": []
          }
        },
        {
          "output_type": "display_data",
          "data": {
            "image/png": "[encoded data removed]",
            "text/plain": [
              "<Figure size 288x288 with 16 Axes>"
            ]
          },
          "metadata": {
            "tags": []
          }
        },
        {
          "output_type": "display_data",
          "data": {
            "image/png": "[encoded data removed]",
            "text/plain": [
              "<Figure size 288x288 with 16 Axes>"
            ]
          },
          "metadata": {
            "tags": []
          }
        }
      ]
    },
    {
      "cell_type": "markdown",
      "metadata": {
        "colab_type": "text",
        "id": "rfM4YcPVPkNO"
      },
      "source": [
        "Restore the latest checkpoint."
      ]
    },
    {
      "cell_type": "code",
      "metadata": {
        "colab_type": "code",
        "id": "XhXsd0srPo8c",
        "colab": {}
      },
      "source": [
        "checkpoint.restore(tf.train.latest_checkpoint(checkpoint_dir))"
      ],
      "execution_count": 0,
      "outputs": []
    },
    {
      "cell_type": "markdown",
      "metadata": {
        "colab_type": "text",
        "id": "P4M_vIbUi7c0"
      },
      "source": [
        "## Create a GIF\n"
      ]
    },
    {
      "cell_type": "code",
      "metadata": {
        "colab_type": "code",
        "id": "WfO5wCdclHGL",
        "colab": {}
      },
      "source": [
        "# Display a single image using the epoch number\n",
        "def display_image(epoch_no):\n",
        "  return PIL.Image.open('image_at_epoch_{:04d}.png'.format(epoch_no))"
      ],
      "execution_count": 0,
      "outputs": []
    },
    {
      "cell_type": "code",
      "metadata": {
        "colab_type": "code",
        "id": "5x3q9_Oe5q0A",
        "colab": {}
      },
      "source": [
        "display_image(EPOCHS)"
      ],
      "execution_count": 0,
      "outputs": []
    },
    {
      "cell_type": "markdown",
      "metadata": {
        "colab_type": "text",
        "id": "NywiH3nL8guF"
      },
      "source": [
        "Use `imageio` to create an animated gif using the images saved during training."
      ]
    },
    {
      "cell_type": "code",
      "metadata": {
        "colab_type": "code",
        "id": "IGKQgENQ8lEI",
        "colab": {}
      },
      "source": [
        "anim_file = 'dcgan.gif'\n",
        "\n",
        "with imageio.get_writer(anim_file, mode='I') as writer:\n",
        "  filenames = glob.glob('image*.png')\n",
        "  filenames = sorted(filenames)\n",
        "  last = -1\n",
        "  for i,filename in enumerate(filenames):\n",
        "    frame = 2*(i**0.5)\n",
        "    if round(frame) > round(last):\n",
        "      last = frame\n",
        "    else:\n",
        "      continue\n",
        "    image = imageio.imread(filename)\n",
        "    writer.append_data(image)\n",
        "  image = imageio.imread(filename)\n",
        "  writer.append_data(image)\n",
        "\n",
        "import IPython\n",
        "if IPython.version_info > (6,2,0,''):\n",
        "  display.Image(filename=anim_file)"
      ],
      "execution_count": 0,
      "outputs": []
    },
    {
      "cell_type": "markdown",
      "metadata": {
        "colab_type": "text",
        "id": "cGhC3-fMWSwl"
      },
      "source": [
        "If you're working in Colab you can download the animation with the code below:"
      ]
    },
    {
      "cell_type": "code",
      "metadata": {
        "colab_type": "code",
        "id": "uV0yiKpzNP1b",
        "colab": {}
      },
      "source": [
        "try:\n",
        "  from google.colab import files\n",
        "except ImportError:\n",
        "   pass\n",
        "else:\n",
        "  files.download(anim_file)"
      ],
      "execution_count": 0,
      "outputs": []
    },
    {
      "cell_type": "markdown",
      "metadata": {
        "id": "29pmCDa9QmMa",
        "colab_type": "text"
      },
      "source": [
        "\n",
        "\n",
        "---\n",
        "\n",
        "\n",
        "\n",
        "---\n",
        "\n",
        "\n",
        "\n",
        "---\n",
        "\n",
        "\n",
        "\n",
        "---\n",
        "\n",
        "\n",
        "\n",
        "---\n",
        "\n",
        "\n",
        "\n",
        "---\n",
        "\n",
        "\n",
        "\n",
        "---\n",
        "\n",
        "\n",
        "\n",
        "---\n",
        "\n",
        "\n",
        "\n",
        "---\n",
        "\n",
        "\n",
        "\n",
        "---\n",
        "\n"
      ]
    },
    {
      "cell_type": "markdown",
      "metadata": {
        "id": "UKvCbMmWzIBs",
        "colab_type": "text"
      },
      "source": [
        "# **Proof of Concept #2**"
      ]
    },
    {
      "cell_type": "markdown",
      "metadata": {
        "id": "PSPIty9KQsNy",
        "colab_type": "text"
      },
      "source": [
        "# **Cleaning up noisy/missing data from NASA datasets**\n",
        "\n",
        "# **# Algorithm: Denoising Autoencoder**"
      ]
    },
    {
      "cell_type": "code",
      "metadata": {
        "id": "FXzwRF1iUsOX",
        "colab_type": "code",
        "outputId": "cd664dfa-fa4f-4283-a0d1-293a518acce9",
        "colab": {
          "base_uri": "https://localhost:8080/",
          "height": 34
        }
      },
      "source": [
        "!pwd"
      ],
      "execution_count": 0,
      "outputs": [
        {
          "output_type": "stream",
          "text": [
            "/content\n"
          ],
          "name": "stdout"
        }
      ]
    },
    {
      "cell_type": "code",
      "metadata": {
        "id": "6tMTCnsYUwxx",
        "colab_type": "code",
        "outputId": "3fa6d508-b990-49bf-b045-d2652b5d7687",
        "colab": {
          "base_uri": "https://localhost:8080/",
          "height": 34
        }
      },
      "source": [
        "cd Colab\\ Notebooks"
      ],
      "execution_count": 0,
      "outputs": [
        {
          "output_type": "stream",
          "text": [
            "/content/drive/My Drive/Colab Notebooks\n"
          ],
          "name": "stdout"
        }
      ]
    },
    {
      "cell_type": "code",
      "metadata": {
        "id": "wY1Iz9_lUzBg",
        "colab_type": "code",
        "outputId": "91f5c6c0-d26b-4835-a44c-99383ff96af9",
        "colab": {
          "base_uri": "https://localhost:8080/",
          "height": 119
        }
      },
      "source": [
        "!ls"
      ],
      "execution_count": 0,
      "outputs": [
        {
          "output_type": "stream",
          "text": [
            " 28x28-nasa-earth-images_bad    dcgan_tutorial_nasa.ipynb\n",
            " 28x28-nasa-earth-images_good   DEDOMENA.ipynb\n",
            " 56x56-nasa-earth-bad-images    DEDOMENA_SHAMIR.ipynb\n",
            " 56x56-nasa-earth-images        Denoising_autoencoders.ipynb\n",
            " Bulk\t\t\t        Denoising_autoencoders_NASA_earth_data.ipynb\n",
            "'Copy of Copy of dcgan.ipynb'   nasa_modis_image_2019-03-016_lowres5.jpg\n"
          ],
          "name": "stdout"
        }
      ]
    },
    {
      "cell_type": "code",
      "metadata": {
        "id": "8r44qjVuS4ul",
        "colab_type": "code",
        "outputId": "5cdfa46b-800c-426a-cbae-b52013797f50",
        "colab": {
          "base_uri": "https://localhost:8080/",
          "height": 34
        }
      },
      "source": [
        "# mount google drive location where you saved a .zip archive of your folder that contains images; then unzip the file\n",
        "\n",
        "from google.colab import drive\n",
        "drive.mount('/content/drive')"
      ],
      "execution_count": 0,
      "outputs": [
        {
          "output_type": "stream",
          "text": [
            "Drive already mounted at /content/drive; to attempt to forcibly remount, call drive.mount(\"/content/drive\", force_remount=True).\n"
          ],
          "name": "stdout"
        }
      ]
    },
    {
      "cell_type": "code",
      "metadata": {
        "id": "5yuM7X9ZUdXO",
        "colab_type": "code",
        "colab": {}
      },
      "source": [
        "# get RGB images from Google drive and store them as numpy array\n",
        "\n",
        "from PIL import Image\n",
        "import numpy as np\n",
        "import matplotlib.pyplot as plt\n",
        "import glob\n",
        "import math\n",
        "import cv2\n",
        "\n",
        "#filelist = glob.glob('Bulk/*.jpg')\n",
        "#good_im = np.array([np.array(Image.open(fname).convert('LA')) for fname in filelist])   # Already converts to grayscale but has an extra dummy layer\n",
        "\n"
      ],
      "execution_count": 0,
      "outputs": []
    },
    {
      "cell_type": "code",
      "metadata": {
        "id": "0klQ-Nc_qk8f",
        "colab_type": "code",
        "colab": {}
      },
      "source": [
        "# Convert images to grayscale and store them in an array\n",
        "filelist = glob.glob('Bulk/*.jpg')\n",
        "data = []\n",
        "for file in filelist:\n",
        "    img = cv2.imread(file)\n",
        "    img_gray = cv2.cvtColor(img, cv2.COLOR_BGR2GRAY)\n",
        "    data.append(img_gray)"
      ],
      "execution_count": 0,
      "outputs": []
    },
    {
      "cell_type": "code",
      "metadata": {
        "id": "nR1yG67Wq3hl",
        "colab_type": "code",
        "outputId": "37704d9f-f94b-4c80-cae0-2648f9aa1ccc",
        "colab": {
          "base_uri": "https://localhost:8080/",
          "height": 34
        }
      },
      "source": [
        "np.shape(data)"
      ],
      "execution_count": 0,
      "outputs": [
        {
          "output_type": "execute_result",
          "data": {
            "text/plain": [
              "(2073, 28, 28)"
            ]
          },
          "metadata": {
            "tags": []
          },
          "execution_count": 138
        }
      ]
    },
    {
      "cell_type": "code",
      "metadata": {
        "id": "K-jC6c0vr2IV",
        "colab_type": "code",
        "outputId": "ec636fd4-5150-4b63-9e01-7a04ba623264",
        "colab": {
          "base_uri": "https://localhost:8080/",
          "height": 34
        }
      },
      "source": [
        "data_array = np.array(data)\n",
        "data_array.shape, type(data_array)"
      ],
      "execution_count": 0,
      "outputs": [
        {
          "output_type": "execute_result",
          "data": {
            "text/plain": [
              "((2073, 28, 28), numpy.ndarray)"
            ]
          },
          "metadata": {
            "tags": []
          },
          "execution_count": 139
        }
      ]
    },
    {
      "cell_type": "code",
      "metadata": {
        "id": "_nUXMpaJZDsT",
        "colab_type": "code",
        "outputId": "20d653ca-1ad5-48d9-8c55-0ebdd988e9d7",
        "colab": {
          "base_uri": "https://localhost:8080/",
          "height": 286
        }
      },
      "source": [
        "plt.imshow(data_array[56,:,:])"
      ],
      "execution_count": 0,
      "outputs": [
        {
          "output_type": "execute_result",
          "data": {
            "text/plain": [
              "<matplotlib.image.AxesImage at 0x7fb14e0f73d0>"
            ]
          },
          "metadata": {
            "tags": []
          },
          "execution_count": 140
        },
        {
          "output_type": "display_data",
          "data": {
            "image/png": "[encoded data removed]",
            "text/plain": [
              "<Figure size 432x288 with 1 Axes>"
            ]
          },
          "metadata": {
            "tags": []
          }
        }
      ]
    },
    {
      "cell_type": "code",
      "metadata": {
        "id": "qsrqvknFhtKx",
        "colab_type": "code",
        "colab": {}
      },
      "source": [
        "# split the batch into training and test set: 80-20 partition\n",
        "\n",
        "batch_size = len(data_array[:,0,0])\n",
        "train_size = int(math.ceil(batch_size*0.8))\n",
        "test_size = batch_size - train_size\n",
        "\n",
        "x_train = data_array[0:train_size,:,:]\n",
        "x_test = data_array[train_size:,:,:]\n"
      ],
      "execution_count": 0,
      "outputs": []
    },
    {
      "cell_type": "code",
      "metadata": {
        "id": "h0e0_IjzgWUE",
        "colab_type": "code",
        "outputId": "b7d05746-30e0-4016-846e-b149541a8f2b",
        "colab": {
          "base_uri": "https://localhost:8080/",
          "height": 34
        }
      },
      "source": [
        "train_size, test_size"
      ],
      "execution_count": 0,
      "outputs": [
        {
          "output_type": "execute_result",
          "data": {
            "text/plain": [
              "(1659, 414)"
            ]
          },
          "metadata": {
            "tags": []
          },
          "execution_count": 144
        }
      ]
    },
    {
      "cell_type": "code",
      "metadata": {
        "id": "YMAIj_PSjFBb",
        "colab_type": "code",
        "outputId": "564ef7fe-e2f2-444d-995f-cfb82365abc8",
        "colab": {
          "base_uri": "https://localhost:8080/",
          "height": 34
        }
      },
      "source": [
        "x_train.shape, x_test.shape"
      ],
      "execution_count": 0,
      "outputs": [
        {
          "output_type": "execute_result",
          "data": {
            "text/plain": [
              "((1659, 28, 28), (414, 28, 28))"
            ]
          },
          "metadata": {
            "tags": []
          },
          "execution_count": 145
        }
      ]
    },
    {
      "cell_type": "code",
      "metadata": {
        "id": "eodRbWWM1RkA",
        "colab_type": "code",
        "outputId": "b630386e-8256-4a9a-8aa4-a098ba143ca6",
        "colab": {
          "base_uri": "https://localhost:8080/",
          "height": 320
        }
      },
      "source": [
        "%matplotlib inline\n",
        "\n",
        "import keras\n",
        "#from keras.datasets import cifar10\n",
        "#from keras.datasets import mnist\n",
        "\n",
        "from matplotlib import pyplot\n",
        "from matplotlib.pyplot import imshow\n",
        "import numpy as np\n",
        "\n",
        "\n",
        "# https://keras.io/datasets/#mnist-database-of-handwritten-digits\n",
        "# load mnist in a grayscale format bunch of images\n",
        "#(x_train, y_train), (x_test, y_test) = mnist.load_data()\n",
        "\n",
        "print('x_train shape:', x_train.shape)\n",
        "print(x_train.shape[0], 'train samples')\n",
        "print(x_test.shape[0], 'test samples')\n",
        "\n",
        "for i in range(0, 9):\n",
        "    pyplot.subplot(330 + 1 + i)\n",
        "    imshow(x_train[i])\n",
        "    imgplot = pyplot.imshow(x_train[i])"
      ],
      "execution_count": 0,
      "outputs": [
        {
          "output_type": "stream",
          "text": [
            "('x_train shape:', (1659, 28, 28))\n",
            "(1659, 'train samples')\n",
            "(414, 'test samples')\n"
          ],
          "name": "stdout"
        },
        {
          "output_type": "display_data",
          "data": {
            "image/png": "[encoded data removed]",
            "text/plain": [
              "<Figure size 432x288 with 9 Axes>"
            ]
          },
          "metadata": {
            "tags": []
          }
        }
      ]
    },
    {
      "cell_type": "code",
      "metadata": {
        "id": "Sl7CKyEN1RkR",
        "colab_type": "code",
        "outputId": "7644df78-5248-4885-9a4c-530a82dfe184",
        "colab": {
          "base_uri": "https://localhost:8080/",
          "height": 320
        }
      },
      "source": [
        "print \"training set shape is\", x_train.shape\n",
        "#print y_train.shape\n",
        "\n",
        "# since we deal with square images\n",
        "image_size = x_train.shape[1]\n",
        "\n",
        "# inspect the format of x and y\n",
        "print \"First image in the training set\"\n",
        "pyplot.imshow(x_train[0])"
      ],
      "execution_count": 0,
      "outputs": [
        {
          "output_type": "stream",
          "text": [
            "training set shape is (1659, 28, 28)\n",
            "First image in the training set\n"
          ],
          "name": "stdout"
        },
        {
          "output_type": "execute_result",
          "data": {
            "text/plain": [
              "<matplotlib.image.AxesImage at 0x7fb14ddf0810>"
            ]
          },
          "metadata": {
            "tags": []
          },
          "execution_count": 147
        },
        {
          "output_type": "display_data",
          "data": {
            "image/png": "[encoded data removed]",
            "text/plain": [
              "<Figure size 432x288 with 1 Axes>"
            ]
          },
          "metadata": {
            "tags": []
          }
        }
      ]
    },
    {
      "cell_type": "code",
      "metadata": {
        "id": "PeFfmpC81RkZ",
        "colab_type": "code",
        "colab": {}
      },
      "source": [
        "initial_seed = 1234\n",
        "np.random.seed(initial_seed)"
      ],
      "execution_count": 0,
      "outputs": []
    },
    {
      "cell_type": "code",
      "metadata": {
        "id": "jchWKhYV1Rkg",
        "colab_type": "code",
        "outputId": "6fe09ebd-c28f-435b-afa2-5dd3b7bbd735",
        "colab": {
          "base_uri": "https://localhost:8080/",
          "height": 34
        }
      },
      "source": [
        "print np.amax(x_train)\n",
        "# normalize the pixel values to have everything between 0 and 1\n",
        "x_train = x_train.astype('float32') / 255\n",
        "x_test = x_test.astype('float32') / 255"
      ],
      "execution_count": 0,
      "outputs": [
        {
          "output_type": "stream",
          "text": [
            "255\n"
          ],
          "name": "stdout"
        }
      ]
    },
    {
      "cell_type": "code",
      "metadata": {
        "id": "aGigvMju1Rkl",
        "colab_type": "code",
        "outputId": "deb66439-2f16-4736-9d2b-7137e50ee71d",
        "colab": {
          "base_uri": "https://localhost:8080/",
          "height": 51
        }
      },
      "source": [
        "# https://github.com/keras-team/keras/blob/master/examples/mnist_denoising_autoencoder.py\n",
        "# https://blog.keras.io/building-autoencoders-in-keras.html\n",
        "# x_train_ = np.reshape(x_train, [-1, image_size, image_size, 1])\n",
        "x_train_ = np.reshape(x_train, (len(x_train), image_size, image_size, 1))\n",
        "print \"Reshaped train from\", x_train.shape, \"to\", x_train_.shape\n",
        "\n",
        "#x_test_ = np.reshape(x_test, [-1, image_size, image_size, 1])\n",
        "x_test_ = np.reshape(x_test, (len(x_test), image_size, image_size, 1))\n",
        "print \"Reshaped test from\", x_test.shape, \"to\", x_test_.shape"
      ],
      "execution_count": 0,
      "outputs": [
        {
          "output_type": "stream",
          "text": [
            "Reshaped train from (1659, 28, 28) to (1659, 28, 28, 1)\n",
            "Reshaped test from (414, 28, 28) to (414, 28, 28, 1)\n"
          ],
          "name": "stdout"
        }
      ]
    },
    {
      "cell_type": "code",
      "metadata": {
        "id": "EtzvEDk-1Rkt",
        "colab_type": "code",
        "outputId": "c33ea8c7-9615-434a-8157-82771a98af4d",
        "colab": {
          "base_uri": "https://localhost:8080/",
          "height": 51
        }
      },
      "source": [
        "# Generate corrupted MNIST images by adding noise with normal dist\n",
        "# centered at 0.5 and std=0.5\n",
        "noise = np.random.normal(loc=0.5,\n",
        "                         scale=0.5,\n",
        "                         size=x_train_.shape)\n",
        "print \"x_train noise.shape\", noise.shape\n",
        "x_train_noisy = x_train_ + noise\n",
        "noise = np.random.normal(loc=0.5,\n",
        "                         scale=0.5,\n",
        "                         size=x_test_.shape)\n",
        "x_test_noisy = x_test_ + noise\n",
        "print \"x_test noise.shape\", noise.shape\n",
        "\n",
        "# make sure the data are in the [0,1] range by clipping lower and higher ones\n",
        "# https://docs.scipy.org/doc/numpy-1.13.0/reference/generated/numpy.clip.html\n",
        "x_train_noisy = np.clip(x_train_noisy, 0., 1.)\n",
        "x_test_noisy = np.clip(x_test_noisy, 0., 1.)"
      ],
      "execution_count": 0,
      "outputs": [
        {
          "output_type": "stream",
          "text": [
            "x_train noise.shape (1659, 28, 28, 1)\n",
            "x_test noise.shape (414, 28, 28, 1)\n"
          ],
          "name": "stdout"
        }
      ]
    },
    {
      "cell_type": "markdown",
      "metadata": {
        "id": "IDGHPwaD1Rky",
        "colab_type": "text"
      },
      "source": [
        "Let's see how noisy became the first training entry after adding the noise:"
      ]
    },
    {
      "cell_type": "code",
      "metadata": {
        "id": "GuvN3LbP1Rk0",
        "colab_type": "code",
        "outputId": "e69b8260-06f4-48cc-e28d-8cb91a8d09c8",
        "colab": {
          "base_uri": "https://localhost:8080/",
          "height": 286
        }
      },
      "source": [
        "pyplot.imshow(\n",
        "    np.reshape(x_train_noisy[0], (1, image_size, image_size))[0]\n",
        ")"
      ],
      "execution_count": 0,
      "outputs": [
        {
          "output_type": "execute_result",
          "data": {
            "text/plain": [
              "<matplotlib.image.AxesImage at 0x7fb14dd653d0>"
            ]
          },
          "metadata": {
            "tags": []
          },
          "execution_count": 152
        },
        {
          "output_type": "display_data",
          "data": {
            "image/png": "[encoded data removed]",
            "text/plain": [
              "<Figure size 432x288 with 1 Axes>"
            ]
          },
          "metadata": {
            "tags": []
          }
        }
      ]
    },
    {
      "cell_type": "code",
      "metadata": {
        "id": "LJOmuO2H1Rk7",
        "colab_type": "code",
        "outputId": "c90b2d0b-92f8-45b7-c3b2-e115b6c4c4cd",
        "colab": {
          "base_uri": "https://localhost:8080/",
          "height": 326
        }
      },
      "source": [
        "from keras.models import Sequential\n",
        "from keras.layers import Dense, Dropout, Activation, Flatten\n",
        "from keras.constraints import maxnorm\n",
        "from keras.optimizers import SGD, rmsprop\n",
        "from keras.layers.convolutional import Conv2D, MaxPooling2D, UpSampling2D\n",
        "\n",
        "model = Sequential()\n",
        "model.add(Conv2D(16, (3, 3), \n",
        "                 input_shape=x_train_.shape[1:], # (28, 28)\n",
        "                 activation='relu',\n",
        "                 padding='same'))\n",
        "model.add(MaxPooling2D((2, 2), padding=\"same\"))\n",
        "model.add(Conv2D(8, (3, 3), activation='relu', padding='same'))\n",
        "model.add(MaxPooling2D((2, 2), padding=\"same\"))\n",
        "model.add(Conv2D(8, (3, 3), activation='relu', padding='same'))\n",
        "model.add(MaxPooling2D((2, 2), padding=\"same\"))\n",
        "\n",
        "# ** encoded representation **\n",
        "# at this point the representation is (4, 4, 8) i.e. 128-dimensional\n",
        "\n",
        "model.add(Conv2D(8, (3, 3), activation='relu', padding='same'))\n",
        "model.add(UpSampling2D((2, 2)))\n",
        "model.add(Conv2D(8, (3, 3), activation='relu', padding='same'))\n",
        "model.add(UpSampling2D((2, 2)))\n",
        "model.add(Conv2D(16, (3, 3), activation='relu'))\n",
        "model.add(UpSampling2D((2, 2)))\n",
        "model.add(Conv2D(1, (3, 3), activation='sigmoid', padding='same'))\n",
        "          \n",
        "model.compile(optimizer='adadelta', loss='binary_crossentropy')"
      ],
      "execution_count": 0,
      "outputs": [
        {
          "output_type": "stream",
          "text": [
            "W1020 19:09:57.593410 140400888121216 module_wrapper.py:139] From /usr/local/lib/python2.7/dist-packages/keras/backend/tensorflow_backend.py:74: The name tf.get_default_graph is deprecated. Please use tf.compat.v1.get_default_graph instead.\n",
            "\n",
            "W1020 19:09:57.604981 140400888121216 module_wrapper.py:139] From /usr/local/lib/python2.7/dist-packages/keras/backend/tensorflow_backend.py:517: The name tf.placeholder is deprecated. Please use tf.compat.v1.placeholder instead.\n",
            "\n",
            "W1020 19:09:57.615333 140400888121216 module_wrapper.py:139] From /usr/local/lib/python2.7/dist-packages/keras/backend/tensorflow_backend.py:4138: The name tf.random_uniform is deprecated. Please use tf.random.uniform instead.\n",
            "\n",
            "W1020 19:09:57.662156 140400888121216 module_wrapper.py:139] From /usr/local/lib/python2.7/dist-packages/keras/backend/tensorflow_backend.py:3976: The name tf.nn.max_pool is deprecated. Please use tf.nn.max_pool2d instead.\n",
            "\n",
            "W1020 19:09:57.707104 140400888121216 module_wrapper.py:139] From /usr/local/lib/python2.7/dist-packages/keras/backend/tensorflow_backend.py:2018: The name tf.image.resize_nearest_neighbor is deprecated. Please use tf.compat.v1.image.resize_nearest_neighbor instead.\n",
            "\n",
            "W1020 19:09:57.749277 140400888121216 module_wrapper.py:139] From /usr/local/lib/python2.7/dist-packages/keras/optimizers.py:790: The name tf.train.Optimizer is deprecated. Please use tf.compat.v1.train.Optimizer instead.\n",
            "\n",
            "W1020 19:09:57.765497 140400888121216 module_wrapper.py:139] From /usr/local/lib/python2.7/dist-packages/keras/backend/tensorflow_backend.py:3376: The name tf.log is deprecated. Please use tf.math.log instead.\n",
            "\n",
            "W1020 19:09:57.771167 140400888121216 deprecation.py:323] From /usr/local/lib/python2.7/dist-packages/tensorflow_core/python/ops/nn_impl.py:183: where (from tensorflow.python.ops.array_ops) is deprecated and will be removed in a future version.\n",
            "Instructions for updating:\n",
            "Use tf.where in 2.0, which has the same broadcast rule as np.where\n"
          ],
          "name": "stderr"
        }
      ]
    },
    {
      "cell_type": "code",
      "metadata": {
        "id": "t3TK_PDc1RlA",
        "colab_type": "code",
        "outputId": "1b005386-a39e-4558-eabf-f2f727d7306e",
        "colab": {
          "base_uri": "https://localhost:8080/",
          "height": 1000
        }
      },
      "source": [
        "model.fit(x_train_noisy, \n",
        "          x_train_,\n",
        "          epochs=250,\n",
        "          batch_size=128,\n",
        "          shuffle=True,\n",
        "          validation_data=(x_test_noisy, x_test_))"
      ],
      "execution_count": 0,
      "outputs": [
        {
          "output_type": "stream",
          "text": [
            "Train on 1659 samples, validate on 414 samples\n",
            "Epoch 1/250\n",
            "1659/1659 [==============================] - 2s 1ms/step - loss: 0.6399 - val_loss: 0.6594\n",
            "Epoch 2/250\n",
            "1659/1659 [==============================] - 2s 1ms/step - loss: 0.6438 - val_loss: 0.6752\n",
            "Epoch 3/250\n",
            "1659/1659 [==============================] - 2s 1ms/step - loss: 0.6429 - val_loss: 0.6310\n",
            "Epoch 4/250\n",
            "1659/1659 [==============================] - 2s 2ms/step - loss: 0.6490 - val_loss: 0.6695\n",
            "Epoch 5/250\n",
            "1659/1659 [==============================] - 2s 1ms/step - loss: 0.6558 - val_loss: 0.6406\n",
            "Epoch 6/250\n",
            "1659/1659 [==============================] - 2s 1ms/step - loss: 0.6477 - val_loss: 0.6716\n",
            "Epoch 7/250\n",
            "1659/1659 [==============================] - 2s 1ms/step - loss: 0.6398 - val_loss: 0.6397\n",
            "Epoch 8/250\n",
            "1659/1659 [==============================] - 2s 1ms/step - loss: 0.6358 - val_loss: 0.6337\n",
            "Epoch 9/250\n",
            "1659/1659 [==============================] - 2s 1ms/step - loss: 0.6713 - val_loss: 0.6310\n",
            "Epoch 10/250\n",
            "1659/1659 [==============================] - 2s 1ms/step - loss: 0.6514 - val_loss: 0.6724\n",
            "Epoch 11/250\n",
            "1659/1659 [==============================] - 2s 1ms/step - loss: 0.6411 - val_loss: 0.6450\n",
            "Epoch 12/250\n",
            "1659/1659 [==============================] - 2s 1ms/step - loss: 0.6345 - val_loss: 0.6388\n",
            "Epoch 13/250\n",
            "1659/1659 [==============================] - 2s 1ms/step - loss: 0.6377 - val_loss: 0.6531\n",
            "Epoch 14/250\n",
            "1659/1659 [==============================] - 2s 1ms/step - loss: 0.6453 - val_loss: 0.6333\n",
            "Epoch 15/250\n",
            "1659/1659 [==============================] - 2s 1ms/step - loss: 0.6393 - val_loss: 0.6569\n",
            "Epoch 16/250\n",
            "1659/1659 [==============================] - 3s 2ms/step - loss: 0.6558 - val_loss: 0.6731\n",
            "Epoch 17/250\n",
            "1659/1659 [==============================] - 2s 1ms/step - loss: 0.6637 - val_loss: 0.6437\n",
            "Epoch 18/250\n",
            "1659/1659 [==============================] - 2s 1ms/step - loss: 0.6493 - val_loss: 0.6722\n",
            "Epoch 19/250\n",
            "1659/1659 [==============================] - 2s 1ms/step - loss: 0.6558 - val_loss: 0.6374\n",
            "Epoch 20/250\n",
            "1659/1659 [==============================] - 2s 1ms/step - loss: 0.6434 - val_loss: 0.6387\n",
            "Epoch 21/250\n",
            "1659/1659 [==============================] - 2s 1ms/step - loss: 0.6404 - val_loss: 0.6336\n",
            "Epoch 22/250\n",
            "1659/1659 [==============================] - 2s 1ms/step - loss: 0.6435 - val_loss: 0.6631\n",
            "Epoch 23/250\n",
            "1659/1659 [==============================] - 2s 1ms/step - loss: 0.6605 - val_loss: 0.6786\n",
            "Epoch 24/250\n",
            "1659/1659 [==============================] - 3s 2ms/step - loss: 0.6506 - val_loss: 0.6423\n",
            "Epoch 25/250\n",
            "1659/1659 [==============================] - 2s 1ms/step - loss: 0.6411 - val_loss: 0.6420\n",
            "Epoch 26/250\n",
            "1659/1659 [==============================] - 3s 2ms/step - loss: 0.6553 - val_loss: 0.6916\n",
            "Epoch 27/250\n",
            "1659/1659 [==============================] - 2s 1ms/step - loss: 0.6622 - val_loss: 0.6622\n",
            "Epoch 28/250\n",
            "1659/1659 [==============================] - 2s 1ms/step - loss: 0.6553 - val_loss: 0.6586\n",
            "Epoch 29/250\n",
            "1659/1659 [==============================] - 3s 2ms/step - loss: 0.6471 - val_loss: 0.6428\n",
            "Epoch 30/250\n",
            "1659/1659 [==============================] - 2s 1ms/step - loss: 0.6424 - val_loss: 0.6531\n",
            "Epoch 31/250\n",
            "1659/1659 [==============================] - 3s 2ms/step - loss: 0.6401 - val_loss: 0.6445\n",
            "Epoch 32/250\n",
            "1659/1659 [==============================] - 2s 2ms/step - loss: 0.6378 - val_loss: 0.6278\n",
            "Epoch 33/250\n",
            "1659/1659 [==============================] - 2s 1ms/step - loss: 0.6321 - val_loss: 0.6626\n",
            "Epoch 34/250\n",
            "1659/1659 [==============================] - 2s 1ms/step - loss: 0.6398 - val_loss: 0.6495\n",
            "Epoch 35/250\n",
            "1659/1659 [==============================] - 3s 2ms/step - loss: 0.6348 - val_loss: 0.6649\n",
            "Epoch 36/250\n",
            "1659/1659 [==============================] - 2s 1ms/step - loss: 0.6412 - val_loss: 0.6727\n",
            "Epoch 37/250\n",
            "1659/1659 [==============================] - 2s 1ms/step - loss: 0.6473 - val_loss: 0.6688\n",
            "Epoch 38/250\n",
            "1659/1659 [==============================] - 3s 2ms/step - loss: 0.6562 - val_loss: 0.6389\n",
            "Epoch 39/250\n",
            "1659/1659 [==============================] - 3s 2ms/step - loss: 0.7037 - val_loss: 0.6827\n",
            "Epoch 40/250\n",
            "1659/1659 [==============================] - 3s 2ms/step - loss: 0.6726 - val_loss: 0.6848\n",
            "Epoch 41/250\n",
            "1659/1659 [==============================] - 3s 2ms/step - loss: 0.6706 - val_loss: 0.6608\n",
            "Epoch 42/250\n",
            "1659/1659 [==============================] - 2s 2ms/step - loss: 0.6762 - val_loss: 0.6633\n",
            "Epoch 43/250\n",
            "1659/1659 [==============================] - 2s 1ms/step - loss: 0.6673 - val_loss: 0.6802\n",
            "Epoch 44/250\n",
            "1659/1659 [==============================] - 2s 1ms/step - loss: 0.6687 - val_loss: 0.6593\n",
            "Epoch 45/250\n",
            "1659/1659 [==============================] - 3s 2ms/step - loss: 0.6657 - val_loss: 0.6635\n",
            "Epoch 46/250\n",
            "1659/1659 [==============================] - 2s 1ms/step - loss: 0.6664 - val_loss: 0.6584\n",
            "Epoch 47/250\n",
            " 256/1659 [===>..........................] - ETA: 3s - loss: 0.6526"
          ],
          "name": "stdout"
        },
        {
          "output_type": "stream",
          "text": [
            "/usr/local/lib/python2.7/dist-packages/keras/callbacks.py:122: UserWarning: Method on_batch_end() is slow compared to the batch update (0.302240). Check your callbacks.\n",
            "  % delta_t_median)\n"
          ],
          "name": "stderr"
        },
        {
          "output_type": "stream",
          "text": [
            "1659/1659 [==============================] - 3s 2ms/step - loss: 0.6795 - val_loss: 0.6597\n",
            "Epoch 48/250\n",
            "1659/1659 [==============================] - 2s 1ms/step - loss: 0.6663 - val_loss: 0.6633\n",
            "Epoch 49/250\n",
            "1659/1659 [==============================] - 3s 2ms/step - loss: 0.6376 - val_loss: 0.6420\n",
            "Epoch 50/250\n",
            "1659/1659 [==============================] - 3s 2ms/step - loss: 0.6319 - val_loss: 0.6545\n",
            "Epoch 51/250\n",
            "1659/1659 [==============================] - 2s 1ms/step - loss: 0.6355 - val_loss: 0.6330\n",
            "Epoch 52/250\n",
            "1659/1659 [==============================] - 2s 1ms/step - loss: 0.6322 - val_loss: 0.6338\n",
            "Epoch 53/250\n",
            "1659/1659 [==============================] - 2s 1ms/step - loss: 0.6457 - val_loss: 0.6325\n",
            "Epoch 54/250\n",
            "1659/1659 [==============================] - 3s 2ms/step - loss: 0.6358 - val_loss: 0.6345\n",
            "Epoch 55/250\n",
            "1659/1659 [==============================] - 2s 1ms/step - loss: 0.6329 - val_loss: 0.6708\n",
            "Epoch 56/250\n",
            "1659/1659 [==============================] - 3s 2ms/step - loss: 0.6441 - val_loss: 0.6571\n",
            "Epoch 57/250\n",
            "1659/1659 [==============================] - 2s 1ms/step - loss: 0.6443 - val_loss: 0.6292\n",
            "Epoch 58/250\n",
            "1659/1659 [==============================] - 3s 2ms/step - loss: 0.6464 - val_loss: 0.6518\n",
            "Epoch 59/250\n",
            "1659/1659 [==============================] - 3s 2ms/step - loss: 0.6381 - val_loss: 0.6567\n",
            "Epoch 60/250\n",
            "1659/1659 [==============================] - 2s 1ms/step - loss: 0.6467 - val_loss: 0.6704\n",
            "Epoch 61/250\n",
            "1659/1659 [==============================] - 2s 1ms/step - loss: 0.6618 - val_loss: 0.6776\n",
            "Epoch 62/250\n",
            "1659/1659 [==============================] - 2s 1ms/step - loss: 0.6573 - val_loss: 0.6327\n",
            "Epoch 63/250\n",
            "1659/1659 [==============================] - 3s 2ms/step - loss: 0.6492 - val_loss: 0.6396\n",
            "Epoch 64/250\n",
            "1659/1659 [==============================] - 3s 2ms/step - loss: 0.6616 - val_loss: 0.6372\n",
            "Epoch 65/250\n",
            "1659/1659 [==============================] - 3s 2ms/step - loss: 0.6580 - val_loss: 0.7484\n",
            "Epoch 66/250\n",
            "1659/1659 [==============================] - 2s 1ms/step - loss: 0.6651 - val_loss: 0.6883\n",
            "Epoch 67/250\n",
            "1659/1659 [==============================] - 2s 1ms/step - loss: 0.6562 - val_loss: 0.6544\n",
            "Epoch 68/250\n",
            "1659/1659 [==============================] - 2s 1ms/step - loss: 0.6403 - val_loss: 0.6550\n",
            "Epoch 69/250\n",
            "1659/1659 [==============================] - 3s 2ms/step - loss: 0.6529 - val_loss: 0.6399\n",
            "Epoch 70/250\n",
            "1659/1659 [==============================] - 2s 1ms/step - loss: 0.6667 - val_loss: 0.6668\n",
            "Epoch 71/250\n",
            "1659/1659 [==============================] - 2s 2ms/step - loss: 0.6629 - val_loss: 0.6615\n",
            "Epoch 72/250\n",
            "1659/1659 [==============================] - 2s 1ms/step - loss: 0.6575 - val_loss: 0.6365\n",
            "Epoch 73/250\n",
            "1659/1659 [==============================] - 2s 1ms/step - loss: 0.6448 - val_loss: 0.6292\n",
            "Epoch 74/250\n",
            "1659/1659 [==============================] - 3s 2ms/step - loss: 0.6432 - val_loss: 0.6439\n",
            "Epoch 75/250\n",
            "1659/1659 [==============================] - 2s 1ms/step - loss: 0.6465 - val_loss: 0.6302\n",
            "Epoch 76/250\n",
            "1659/1659 [==============================] - 2s 1ms/step - loss: 0.6376 - val_loss: 0.6421\n",
            "Epoch 77/250\n",
            "1659/1659 [==============================] - 3s 2ms/step - loss: 0.6480 - val_loss: 0.6377\n",
            "Epoch 78/250\n",
            "1659/1659 [==============================] - 2s 1ms/step - loss: 0.6470 - val_loss: 0.6540\n",
            "Epoch 79/250\n",
            "1659/1659 [==============================] - 2s 1ms/step - loss: 0.6443 - val_loss: 0.6846\n",
            "Epoch 80/250\n",
            "1659/1659 [==============================] - 2s 1ms/step - loss: 0.6660 - val_loss: 0.6474\n",
            "Epoch 81/250\n",
            "1659/1659 [==============================] - 2s 1ms/step - loss: 0.6489 - val_loss: 0.6580\n",
            "Epoch 82/250\n",
            "1659/1659 [==============================] - 2s 2ms/step - loss: 0.6517 - val_loss: 0.6771\n",
            "Epoch 83/250\n",
            "1659/1659 [==============================] - 2s 1ms/step - loss: 0.6487 - val_loss: 0.6814\n",
            "Epoch 84/250\n",
            "1659/1659 [==============================] - 3s 2ms/step - loss: 0.6573 - val_loss: 0.6630\n",
            "Epoch 85/250\n",
            "1659/1659 [==============================] - 2s 1ms/step - loss: 0.6479 - val_loss: 0.6345\n",
            "Epoch 86/250\n",
            "1659/1659 [==============================] - 2s 1ms/step - loss: 0.6391 - val_loss: 0.6695\n",
            "Epoch 87/250\n",
            "1659/1659 [==============================] - 2s 2ms/step - loss: 0.6519 - val_loss: 0.6814\n",
            "Epoch 88/250\n",
            "1659/1659 [==============================] - 2s 1ms/step - loss: 0.6634 - val_loss: 0.6492\n",
            "Epoch 89/250\n",
            "1659/1659 [==============================] - 2s 1ms/step - loss: 0.6361 - val_loss: 0.6620\n",
            "Epoch 90/250\n",
            "1659/1659 [==============================] - 3s 2ms/step - loss: 0.6523 - val_loss: 0.6562\n",
            "Epoch 91/250\n",
            "1659/1659 [==============================] - 3s 2ms/step - loss: 0.6461 - val_loss: 0.6572\n",
            "Epoch 92/250\n",
            "1659/1659 [==============================] - 2s 2ms/step - loss: 0.6468 - val_loss: 0.6758\n",
            "Epoch 93/250\n",
            "1659/1659 [==============================] - 3s 2ms/step - loss: 0.6662 - val_loss: 0.6650\n",
            "Epoch 94/250\n",
            "1659/1659 [==============================] - 3s 2ms/step - loss: 0.6582 - val_loss: 0.6546\n",
            "Epoch 95/250\n",
            "1659/1659 [==============================] - 3s 2ms/step - loss: 0.6560 - val_loss: 0.6637\n",
            "Epoch 96/250\n",
            "1659/1659 [==============================] - 2s 1ms/step - loss: 0.6475 - val_loss: 0.6700\n",
            "Epoch 97/250\n",
            "1659/1659 [==============================] - 3s 2ms/step - loss: 0.6502 - val_loss: 0.6233\n",
            "Epoch 98/250\n",
            "1659/1659 [==============================] - 3s 2ms/step - loss: 0.6396 - val_loss: 0.6496\n",
            "Epoch 99/250\n",
            "1659/1659 [==============================] - 3s 2ms/step - loss: 0.6503 - val_loss: 0.6333\n",
            "Epoch 100/250\n",
            "1659/1659 [==============================] - 3s 2ms/step - loss: 0.6760 - val_loss: 0.6822\n",
            "Epoch 101/250\n",
            "1659/1659 [==============================] - 3s 2ms/step - loss: 0.6746 - val_loss: 0.6899\n",
            "Epoch 102/250\n",
            "1659/1659 [==============================] - 3s 2ms/step - loss: 0.6709 - val_loss: 0.6630\n",
            "Epoch 103/250\n",
            "1659/1659 [==============================] - 2s 1ms/step - loss: 0.6619 - val_loss: 0.6654\n",
            "Epoch 104/250\n",
            "1659/1659 [==============================] - 2s 1ms/step - loss: 0.6664 - val_loss: 0.6753\n",
            "Epoch 105/250\n",
            "1659/1659 [==============================] - 2s 2ms/step - loss: 0.6631 - val_loss: 0.6640\n",
            "Epoch 106/250\n",
            "1659/1659 [==============================] - 3s 2ms/step - loss: 0.6699 - val_loss: 0.6924\n",
            "Epoch 107/250\n",
            "1659/1659 [==============================] - 3s 2ms/step - loss: 0.7099 - val_loss: 0.6889\n",
            "Epoch 108/250\n",
            "1659/1659 [==============================] - 3s 2ms/step - loss: 0.6889 - val_loss: 0.6888\n",
            "Epoch 109/250\n",
            "1659/1659 [==============================] - 2s 1ms/step - loss: 0.6813 - val_loss: 0.6838\n",
            "Epoch 110/250\n",
            "1659/1659 [==============================] - 3s 2ms/step - loss: 0.6670 - val_loss: 0.7341\n",
            "Epoch 111/250\n",
            "1659/1659 [==============================] - 3s 2ms/step - loss: 0.6744 - val_loss: 0.6893\n",
            "Epoch 112/250\n",
            "1659/1659 [==============================] - 3s 2ms/step - loss: 0.6654 - val_loss: 0.6686\n",
            "Epoch 113/250\n",
            "1659/1659 [==============================] - 3s 2ms/step - loss: 0.6501 - val_loss: 0.6583\n",
            "Epoch 114/250\n",
            "1659/1659 [==============================] - 3s 2ms/step - loss: 0.6564 - val_loss: 0.6560\n",
            "Epoch 115/250\n",
            "1659/1659 [==============================] - 3s 2ms/step - loss: 0.6360 - val_loss: 0.6437\n",
            "Epoch 116/250\n",
            "1659/1659 [==============================] - 3s 2ms/step - loss: 0.6342 - val_loss: 0.6423\n",
            "Epoch 117/250\n",
            "1659/1659 [==============================] - 3s 2ms/step - loss: 0.6351 - val_loss: 0.6331\n",
            "Epoch 118/250\n",
            "1659/1659 [==============================] - 3s 2ms/step - loss: 0.6415 - val_loss: 0.6335\n",
            "Epoch 119/250\n",
            "1659/1659 [==============================] - 3s 2ms/step - loss: 0.6330 - val_loss: 0.6543\n",
            "Epoch 120/250\n",
            "1659/1659 [==============================] - 2s 2ms/step - loss: 0.6492 - val_loss: 0.6340\n",
            "Epoch 121/250\n",
            "1659/1659 [==============================] - 3s 2ms/step - loss: 0.7347 - val_loss: 0.6730\n",
            "Epoch 122/250\n",
            "1659/1659 [==============================] - 3s 2ms/step - loss: 0.6478 - val_loss: 0.6846\n",
            "Epoch 123/250\n",
            "1659/1659 [==============================] - 3s 2ms/step - loss: 0.6425 - val_loss: 0.6298\n",
            "Epoch 124/250\n",
            "1659/1659 [==============================] - 2s 1ms/step - loss: 0.6403 - val_loss: 0.6303\n",
            "Epoch 125/250\n",
            "1659/1659 [==============================] - 2s 2ms/step - loss: 0.6373 - val_loss: 0.6349\n",
            "Epoch 126/250\n",
            "1659/1659 [==============================] - 2s 1ms/step - loss: 0.6388 - val_loss: 0.6580\n",
            "Epoch 127/250\n",
            "1659/1659 [==============================] - 3s 2ms/step - loss: 0.6316 - val_loss: 0.6313\n",
            "Epoch 128/250\n",
            "1659/1659 [==============================] - 2s 1ms/step - loss: 0.6281 - val_loss: 0.6345\n",
            "Epoch 129/250\n",
            "1659/1659 [==============================] - 2s 1ms/step - loss: 0.6361 - val_loss: 0.6307\n",
            "Epoch 130/250\n",
            "1659/1659 [==============================] - 3s 2ms/step - loss: 0.6371 - val_loss: 0.6490\n",
            "Epoch 131/250\n",
            "1659/1659 [==============================] - 3s 2ms/step - loss: 0.6360 - val_loss: 0.6406\n",
            "Epoch 132/250\n",
            "1659/1659 [==============================] - 3s 2ms/step - loss: 0.6301 - val_loss: 0.6526\n",
            "Epoch 133/250\n",
            "1659/1659 [==============================] - 3s 2ms/step - loss: 0.6395 - val_loss: 0.6456\n",
            "Epoch 134/250\n",
            "1659/1659 [==============================] - 2s 1ms/step - loss: 0.6369 - val_loss: 0.6335\n",
            "Epoch 135/250\n",
            "1659/1659 [==============================] - 2s 1ms/step - loss: 0.6399 - val_loss: 0.6670\n",
            "Epoch 136/250\n",
            "1659/1659 [==============================] - 2s 1ms/step - loss: 0.6436 - val_loss: 0.6669\n",
            "Epoch 137/250\n",
            "1659/1659 [==============================] - 2s 1ms/step - loss: 0.6440 - val_loss: 0.6768\n",
            "Epoch 138/250\n",
            "1659/1659 [==============================] - 3s 2ms/step - loss: 0.6716 - val_loss: 0.6877\n",
            "Epoch 139/250\n",
            "1659/1659 [==============================] - 2s 1ms/step - loss: 0.6634 - val_loss: 0.7374\n",
            "Epoch 140/250\n",
            "1659/1659 [==============================] - 3s 2ms/step - loss: 0.6738 - val_loss: 0.6569\n",
            "Epoch 141/250\n",
            "1659/1659 [==============================] - 3s 2ms/step - loss: 0.6430 - val_loss: 0.6656\n",
            "Epoch 142/250\n",
            "1659/1659 [==============================] - 2s 1ms/step - loss: 0.6405 - val_loss: 0.6710\n",
            "Epoch 143/250\n",
            "1659/1659 [==============================] - 2s 1ms/step - loss: 0.6383 - val_loss: 0.6368\n",
            "Epoch 144/250\n",
            "1659/1659 [==============================] - 3s 2ms/step - loss: 0.6467 - val_loss: 0.6690\n",
            "Epoch 145/250\n",
            "1659/1659 [==============================] - 2s 1ms/step - loss: 0.6442 - val_loss: 0.6535\n",
            "Epoch 146/250\n",
            "1659/1659 [==============================] - 2s 1ms/step - loss: 0.6370 - val_loss: 0.6632\n",
            "Epoch 147/250\n",
            "1659/1659 [==============================] - 2s 1ms/step - loss: 0.6463 - val_loss: 0.6618\n",
            "Epoch 148/250\n",
            "1659/1659 [==============================] - 3s 2ms/step - loss: 0.6411 - val_loss: 0.6335\n",
            "Epoch 149/250\n",
            "1659/1659 [==============================] - 3s 2ms/step - loss: 0.6502 - val_loss: 0.6424\n",
            "Epoch 150/250\n",
            "1659/1659 [==============================] - 2s 1ms/step - loss: 0.6386 - val_loss: 0.6244\n",
            "Epoch 151/250\n",
            "1659/1659 [==============================] - 3s 2ms/step - loss: 0.6392 - val_loss: 0.6287\n",
            "Epoch 152/250\n",
            "1659/1659 [==============================] - 2s 2ms/step - loss: 0.6426 - val_loss: 0.6287\n",
            "Epoch 153/250\n",
            "1659/1659 [==============================] - 2s 1ms/step - loss: 0.6555 - val_loss: 0.6688\n",
            "Epoch 154/250\n",
            "1659/1659 [==============================] - 3s 2ms/step - loss: 0.6444 - val_loss: 0.6327\n",
            "Epoch 155/250\n",
            "1659/1659 [==============================] - 2s 1ms/step - loss: 0.6386 - val_loss: 0.6286\n",
            "Epoch 156/250\n",
            "1659/1659 [==============================] - 3s 2ms/step - loss: 0.6308 - val_loss: 0.6361\n",
            "Epoch 157/250\n",
            "1659/1659 [==============================] - 2s 1ms/step - loss: 0.6468 - val_loss: 0.6644\n",
            "Epoch 158/250\n",
            "1659/1659 [==============================] - 2s 1ms/step - loss: 0.6505 - val_loss: 0.6265\n",
            "Epoch 159/250\n",
            "1659/1659 [==============================] - 3s 2ms/step - loss: 0.6409 - val_loss: 0.6568\n",
            "Epoch 160/250\n",
            "1659/1659 [==============================] - 3s 2ms/step - loss: 0.6386 - val_loss: 0.6302\n",
            "Epoch 161/250\n",
            "1659/1659 [==============================] - 2s 1ms/step - loss: 0.6499 - val_loss: 0.6430\n",
            "Epoch 162/250\n",
            "1659/1659 [==============================] - 2s 1ms/step - loss: 0.6500 - val_loss: 0.6680\n",
            "Epoch 163/250\n",
            "1659/1659 [==============================] - 3s 2ms/step - loss: 0.6553 - val_loss: 0.6783\n",
            "Epoch 164/250\n",
            "1659/1659 [==============================] - 3s 2ms/step - loss: 0.6570 - val_loss: 0.6760\n",
            "Epoch 165/250\n",
            "1659/1659 [==============================] - 3s 2ms/step - loss: 0.6422 - val_loss: 0.6475\n",
            "Epoch 166/250\n",
            "1659/1659 [==============================] - 3s 2ms/step - loss: 0.6394 - val_loss: 0.6509\n",
            "Epoch 167/250\n",
            "1659/1659 [==============================] - 2s 1ms/step - loss: 0.6431 - val_loss: 0.6256\n",
            "Epoch 168/250\n",
            "1659/1659 [==============================] - 3s 2ms/step - loss: 0.6443 - val_loss: 0.7242\n",
            "Epoch 169/250\n",
            "1659/1659 [==============================] - 3s 2ms/step - loss: 0.6520 - val_loss: 0.6650\n",
            "Epoch 170/250\n",
            "1659/1659 [==============================] - 3s 2ms/step - loss: 0.6590 - val_loss: 0.6417\n",
            "Epoch 171/250\n",
            "1659/1659 [==============================] - 2s 1ms/step - loss: 0.6608 - val_loss: 0.6761\n",
            "Epoch 172/250\n",
            "1659/1659 [==============================] - 2s 2ms/step - loss: 0.6714 - val_loss: 0.6460\n",
            "Epoch 173/250\n",
            "1659/1659 [==============================] - 2s 1ms/step - loss: 0.6534 - val_loss: 0.6770\n",
            "Epoch 174/250\n",
            "1659/1659 [==============================] - 2s 1ms/step - loss: 0.6481 - val_loss: 0.6312\n",
            "Epoch 175/250\n",
            "1659/1659 [==============================] - 2s 1ms/step - loss: 0.6373 - val_loss: 0.6405\n",
            "Epoch 176/250\n",
            "1659/1659 [==============================] - 2s 1ms/step - loss: 0.6478 - val_loss: 0.6560\n",
            "Epoch 177/250\n",
            "1659/1659 [==============================] - 3s 2ms/step - loss: 0.6478 - val_loss: 0.6260\n",
            "Epoch 178/250\n",
            "1659/1659 [==============================] - 2s 1ms/step - loss: 0.6433 - val_loss: 0.6435\n",
            "Epoch 179/250\n",
            "1659/1659 [==============================] - 3s 2ms/step - loss: 0.6395 - val_loss: 0.6457\n",
            "Epoch 180/250\n",
            "1659/1659 [==============================] - 2s 1ms/step - loss: 0.6401 - val_loss: 0.6268\n",
            "Epoch 181/250\n",
            "1659/1659 [==============================] - 2s 1ms/step - loss: 0.6316 - val_loss: 0.6450\n",
            "Epoch 182/250\n",
            "1659/1659 [==============================] - 3s 2ms/step - loss: 0.6414 - val_loss: 0.6449\n",
            "Epoch 183/250\n",
            "1659/1659 [==============================] - 3s 2ms/step - loss: 0.6516 - val_loss: 0.6627\n",
            "Epoch 184/250\n",
            "1659/1659 [==============================] - 2s 1ms/step - loss: 0.6602 - val_loss: 0.6655\n",
            "Epoch 185/250\n",
            "1659/1659 [==============================] - 2s 1ms/step - loss: 0.6647 - val_loss: 0.6549\n",
            "Epoch 186/250\n",
            "1659/1659 [==============================] - 3s 2ms/step - loss: 0.6626 - val_loss: 0.6527\n",
            "Epoch 187/250\n",
            "1659/1659 [==============================] - 2s 1ms/step - loss: 0.6577 - val_loss: 0.6580\n",
            "Epoch 188/250\n",
            "1659/1659 [==============================] - 2s 1ms/step - loss: 0.6518 - val_loss: 0.6558\n",
            "Epoch 189/250\n",
            "1659/1659 [==============================] - 3s 2ms/step - loss: 0.6662 - val_loss: 0.6860\n",
            "Epoch 190/250\n",
            "1659/1659 [==============================] - 2s 1ms/step - loss: 0.6713 - val_loss: 0.6844\n",
            "Epoch 191/250\n",
            "1659/1659 [==============================] - 3s 2ms/step - loss: 0.6666 - val_loss: 0.6655\n",
            "Epoch 192/250\n",
            "1659/1659 [==============================] - 2s 2ms/step - loss: 0.6669 - val_loss: 0.6591\n",
            "Epoch 193/250\n",
            "1659/1659 [==============================] - 2s 2ms/step - loss: 0.6760 - val_loss: 0.6890\n",
            "Epoch 194/250\n",
            "1659/1659 [==============================] - 2s 2ms/step - loss: 0.6683 - val_loss: 0.6825\n",
            "Epoch 195/250\n",
            "1659/1659 [==============================] - 2s 1ms/step - loss: 0.6673 - val_loss: 0.6570\n",
            "Epoch 196/250\n",
            "1659/1659 [==============================] - 3s 2ms/step - loss: 0.6618 - val_loss: 0.6557\n",
            "Epoch 197/250\n",
            "1659/1659 [==============================] - 3s 2ms/step - loss: 0.6599 - val_loss: 0.6537\n",
            "Epoch 198/250\n",
            "1659/1659 [==============================] - 3s 2ms/step - loss: 0.6651 - val_loss: 0.6853\n",
            "Epoch 199/250\n",
            "1659/1659 [==============================] - 2s 1ms/step - loss: 0.6634 - val_loss: 0.6569\n",
            "Epoch 200/250\n",
            "1659/1659 [==============================] - 3s 2ms/step - loss: 0.6608 - val_loss: 0.6582\n",
            "Epoch 201/250\n",
            "1659/1659 [==============================] - 2s 1ms/step - loss: 0.6771 - val_loss: 0.6736\n",
            "Epoch 202/250\n",
            "1659/1659 [==============================] - 3s 2ms/step - loss: 0.6735 - val_loss: 0.6962\n",
            "Epoch 203/250\n",
            "1659/1659 [==============================] - 3s 2ms/step - loss: 0.6903 - val_loss: 0.6927\n",
            "Epoch 204/250\n",
            "1659/1659 [==============================] - 2s 1ms/step - loss: 0.6780 - val_loss: 0.6671\n",
            "Epoch 205/250\n",
            "1659/1659 [==============================] - 2s 2ms/step - loss: 0.6489 - val_loss: 0.6607\n",
            "Epoch 206/250\n",
            "1659/1659 [==============================] - 3s 2ms/step - loss: 0.6625 - val_loss: 0.6887\n",
            "Epoch 207/250\n",
            "1659/1659 [==============================] - 2s 2ms/step - loss: 0.6558 - val_loss: 0.6531\n",
            "Epoch 208/250\n",
            "1659/1659 [==============================] - 3s 2ms/step - loss: 0.6480 - val_loss: 0.6559\n",
            "Epoch 209/250\n",
            "1659/1659 [==============================] - 3s 2ms/step - loss: 0.6401 - val_loss: 0.6376\n",
            "Epoch 210/250\n",
            "1659/1659 [==============================] - 3s 2ms/step - loss: 0.6348 - val_loss: 0.6329\n",
            "Epoch 211/250\n",
            "1659/1659 [==============================] - 2s 2ms/step - loss: 0.6475 - val_loss: 0.6885\n",
            "Epoch 212/250\n",
            "1659/1659 [==============================] - 3s 2ms/step - loss: 0.6482 - val_loss: 0.6962\n",
            "Epoch 213/250\n",
            "1659/1659 [==============================] - 2s 2ms/step - loss: 0.6613 - val_loss: 0.6512\n",
            "Epoch 214/250\n",
            "1659/1659 [==============================] - 2s 1ms/step - loss: 0.6643 - val_loss: 0.6515\n",
            "Epoch 215/250\n",
            "1659/1659 [==============================] - 3s 2ms/step - loss: 0.6388 - val_loss: 0.6371\n",
            "Epoch 216/250\n",
            "1659/1659 [==============================] - 3s 2ms/step - loss: 0.6478 - val_loss: 0.6793\n",
            "Epoch 217/250\n",
            "1659/1659 [==============================] - 2s 2ms/step - loss: 0.6438 - val_loss: 0.6399\n",
            "Epoch 218/250\n",
            "1659/1659 [==============================] - 3s 2ms/step - loss: 0.6723 - val_loss: 0.6818\n",
            "Epoch 219/250\n",
            "1659/1659 [==============================] - 3s 2ms/step - loss: 0.6663 - val_loss: 0.7190\n",
            "Epoch 220/250\n",
            "1659/1659 [==============================] - 3s 2ms/step - loss: 0.6731 - val_loss: 0.6622\n",
            "Epoch 221/250\n",
            "1659/1659 [==============================] - 3s 2ms/step - loss: 0.6581 - val_loss: 0.6659\n",
            "Epoch 222/250\n",
            "1659/1659 [==============================] - 3s 2ms/step - loss: 0.6599 - val_loss: 0.6565\n",
            "Epoch 223/250\n",
            "1659/1659 [==============================] - 2s 1ms/step - loss: 0.6610 - val_loss: 0.6699\n",
            "Epoch 224/250\n",
            "1659/1659 [==============================] - 3s 2ms/step - loss: 0.6683 - val_loss: 0.6499\n",
            "Epoch 225/250\n",
            "1659/1659 [==============================] - 3s 2ms/step - loss: 0.6622 - val_loss: 0.6577\n",
            "Epoch 226/250\n",
            "1659/1659 [==============================] - 3s 2ms/step - loss: 0.6639 - val_loss: 0.6733\n",
            "Epoch 227/250\n",
            "1659/1659 [==============================] - 3s 2ms/step - loss: 0.6682 - val_loss: 0.6916\n",
            "Epoch 228/250\n",
            "1659/1659 [==============================] - 3s 2ms/step - loss: 0.6778 - val_loss: 0.6849\n",
            "Epoch 229/250\n",
            "1659/1659 [==============================] - 3s 2ms/step - loss: 0.6762 - val_loss: 0.6720\n",
            "Epoch 230/250\n",
            "1659/1659 [==============================] - 3s 2ms/step - loss: 0.6685 - val_loss: 0.6963\n",
            "Epoch 231/250\n",
            "1659/1659 [==============================] - 3s 2ms/step - loss: 0.6880 - val_loss: 0.6964\n",
            "Epoch 232/250\n",
            "1659/1659 [==============================] - 2s 1ms/step - loss: 0.6918 - val_loss: 0.6941\n",
            "Epoch 233/250\n",
            "1659/1659 [==============================] - 2s 2ms/step - loss: 0.6872 - val_loss: 0.6699\n",
            "Epoch 234/250\n",
            "1659/1659 [==============================] - 2s 1ms/step - loss: 0.6581 - val_loss: 0.6561\n",
            "Epoch 235/250\n",
            "1659/1659 [==============================] - 2s 1ms/step - loss: 0.6566 - val_loss: 0.6824\n",
            "Epoch 236/250\n",
            "1659/1659 [==============================] - 3s 2ms/step - loss: 0.6590 - val_loss: 0.6788\n",
            "Epoch 237/250\n",
            "1659/1659 [==============================] - 2s 1ms/step - loss: 0.6566 - val_loss: 0.6526\n",
            "Epoch 238/250\n",
            "1659/1659 [==============================] - 2s 1ms/step - loss: 0.6591 - val_loss: 0.6563\n",
            "Epoch 239/250\n",
            "1659/1659 [==============================] - 3s 2ms/step - loss: 0.6623 - val_loss: 0.6522\n",
            "Epoch 240/250\n",
            "1659/1659 [==============================] - 3s 2ms/step - loss: 0.6550 - val_loss: 0.6483\n",
            "Epoch 241/250\n",
            "1659/1659 [==============================] - 2s 1ms/step - loss: 0.6656 - val_loss: 0.6917\n",
            "Epoch 242/250\n",
            "1659/1659 [==============================] - 2s 1ms/step - loss: 0.6898 - val_loss: 0.6920\n",
            "Epoch 243/250\n",
            "1659/1659 [==============================] - 2s 1ms/step - loss: 0.6655 - val_loss: 0.6611\n",
            "Epoch 244/250\n",
            "1659/1659 [==============================] - 2s 1ms/step - loss: 0.6722 - val_loss: 0.6567\n",
            "Epoch 245/250\n",
            "1659/1659 [==============================] - 3s 2ms/step - loss: 0.6602 - val_loss: 0.6486\n",
            "Epoch 246/250\n",
            "1659/1659 [==============================] - 3s 2ms/step - loss: 0.6592 - val_loss: 0.6490\n",
            "Epoch 247/250\n",
            "1659/1659 [==============================] - 3s 2ms/step - loss: 0.6653 - val_loss: 0.6688\n",
            "Epoch 248/250\n",
            "1659/1659 [==============================] - 2s 1ms/step - loss: 0.6593 - val_loss: 0.6503\n",
            "Epoch 249/250\n",
            "1659/1659 [==============================] - 3s 2ms/step - loss: 0.6575 - val_loss: 0.6726\n",
            "Epoch 250/250\n",
            "1659/1659 [==============================] - 3s 2ms/step - loss: 0.6718 - val_loss: 0.6504\n"
          ],
          "name": "stdout"
        },
        {
          "output_type": "execute_result",
          "data": {
            "text/plain": [
              "<keras.callbacks.History at 0x7fb14dc62850>"
            ]
          },
          "metadata": {
            "tags": []
          },
          "execution_count": 157
        }
      ]
    },
    {
      "cell_type": "code",
      "metadata": {
        "id": "ypiLXB9s1RlI",
        "colab_type": "code",
        "colab": {}
      },
      "source": [
        "# example prediction on the corrupted test images\n",
        "decoded = model.predict(\n",
        "    # only predict the first element as example\n",
        "    np.reshape(x_test_noisy[0], (1, image_size, image_size, 1))\n",
        ")"
      ],
      "execution_count": 0,
      "outputs": []
    },
    {
      "cell_type": "code",
      "metadata": {
        "id": "6nACxg8Z1RlP",
        "colab_type": "code",
        "outputId": "57436f48-bc59-4a5d-f110-d19c52f759d3",
        "colab": {
          "base_uri": "https://localhost:8080/",
          "height": 286
        }
      },
      "source": [
        "pyplot.imshow(\n",
        "    np.reshape(x_test_noisy[0], (1, image_size, image_size))[0]\n",
        ")"
      ],
      "execution_count": 0,
      "outputs": [
        {
          "output_type": "execute_result",
          "data": {
            "text/plain": [
              "<matplotlib.image.AxesImage at 0x7fb164f65b50>"
            ]
          },
          "metadata": {
            "tags": []
          },
          "execution_count": 159
        },
        {
          "output_type": "display_data",
          "data": {
            "image/png": "[encoded data removed]",
            "text/plain": [
              "<Figure size 432x288 with 1 Axes>"
            ]
          },
          "metadata": {
            "tags": []
          }
        }
      ]
    },
    {
      "cell_type": "code",
      "metadata": {
        "id": "RLL12L1L1RlV",
        "colab_type": "code",
        "outputId": "a7caf8ba-936d-4315-9889-f5c8866d9a31",
        "colab": {
          "base_uri": "https://localhost:8080/",
          "height": 286
        }
      },
      "source": [
        "pyplot.imshow(\n",
        "    np.reshape(decoded, (1, image_size, image_size))[0]\n",
        ")"
      ],
      "execution_count": 0,
      "outputs": [
        {
          "output_type": "execute_result",
          "data": {
            "text/plain": [
              "<matplotlib.image.AxesImage at 0x7fb164eedb50>"
            ]
          },
          "metadata": {
            "tags": []
          },
          "execution_count": 160
        },
        {
          "output_type": "display_data",
          "data": {
            "image/png": "[encoded data removed]",
            "text/plain": [
              "<Figure size 432x288 with 1 Axes>"
            ]
          },
          "metadata": {
            "tags": []
          }
        }
      ]
    },
    {
      "cell_type": "code",
      "metadata": {
        "id": "frwykIR51Rlb",
        "colab_type": "code",
        "colab": {}
      },
      "source": [
        ""
      ],
      "execution_count": 0,
      "outputs": []
    }
  ]
}